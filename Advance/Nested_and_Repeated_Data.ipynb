{
  "nbformat": 4,
  "nbformat_minor": 0,
  "metadata": {
    "colab": {
      "name": "Nested and Repeated Data.ipynb",
      "provenance": [],
      "collapsed_sections": [],
      "authorship_tag": "ABX9TyMFECITn7++qQPYz3f0WviE",
      "include_colab_link": true
    },
    "kernelspec": {
      "name": "python3",
      "display_name": "Python 3"
    },
    "language_info": {
      "name": "python"
    }
  },
  "cells": [
    {
      "cell_type": "markdown",
      "metadata": {
        "id": "view-in-github",
        "colab_type": "text"
      },
      "source": [
        "<a href=\"https://colab.research.google.com/github/nhatduong01/SQL_on_BigQuery/blob/main/Advance/Nested_and_Repeated_Data.ipynb\" target=\"_parent\"><img src=\"https://colab.research.google.com/assets/colab-badge.svg\" alt=\"Open In Colab\"/></a>"
      ]
    },
    {
      "cell_type": "markdown",
      "metadata": {
        "id": "3MuhhJhBSvA_"
      },
      "source": [
        "We will work on the `github_repos` dataset from `bigquery`"
      ]
    },
    {
      "cell_type": "code",
      "metadata": {
        "colab": {
          "base_uri": "https://localhost:8080/"
        },
        "id": "nJNZRshvSpLv",
        "outputId": "05ecdb0a-98ec-4bdd-f469-8df340bbe4d4"
      },
      "source": [
        "from google.colab import auth\n",
        "auth.authenticate_user()\n",
        "print('Authenticated')"
      ],
      "execution_count": 1,
      "outputs": [
        {
          "output_type": "stream",
          "text": [
            "Authenticated\n"
          ],
          "name": "stdout"
        }
      ]
    },
    {
      "cell_type": "code",
      "metadata": {
        "id": "hkWDrUy3TCNY"
      },
      "source": [
        "# set up the environment\n",
        "import os\n",
        "os.environ[\"GCLOUD_PROJECT\"] = \"BigQuerySQLExercises\""
      ],
      "execution_count": 2,
      "outputs": []
    },
    {
      "cell_type": "code",
      "metadata": {
        "colab": {
          "base_uri": "https://localhost:8080/"
        },
        "id": "UkQgGHl7TKzv",
        "outputId": "326b8b51-6b23-4419-e0a3-502b1b6f359c"
      },
      "source": [
        "from google.cloud import bigquery\n",
        "import pandas as pd\n",
        "\n",
        "client = bigquery.Client()\n",
        "\n",
        "data_ref = client.dataset(dataset_id= 'github_repos', project= 'bigquery-public-data')\n",
        "\n",
        "dataset = client.get_dataset(data_ref)\n",
        "\n",
        "tables = list(client.list_tables(dataset))\n",
        "\n",
        "for table in tables:\n",
        "  print(table.table_id)"
      ],
      "execution_count": 3,
      "outputs": [
        {
          "output_type": "stream",
          "text": [
            "commits\n",
            "contents\n",
            "files\n",
            "languages\n",
            "licenses\n",
            "sample_commits\n",
            "sample_contents\n",
            "sample_files\n",
            "sample_repos\n"
          ],
          "name": "stdout"
        }
      ]
    },
    {
      "cell_type": "code",
      "metadata": {
        "colab": {
          "base_uri": "https://localhost:8080/",
          "height": 626
        },
        "id": "6yEKD9KFUQir",
        "outputId": "cb683898-6fd1-4d08-fddf-93aca853a298"
      },
      "source": [
        "# Construct a reference to `sample_commits` table\n",
        "table_ref = dataset.table('sample_commits')\n",
        "\n",
        "sample_commits = client.get_table(table_ref)\n",
        "\n",
        "client.list_rows(sample_commits, max_results= 5).to_dataframe()"
      ],
      "execution_count": null,
      "outputs": [
        {
          "output_type": "execute_result",
          "data": {
            "text/html": [
              "<div>\n",
              "<style scoped>\n",
              "    .dataframe tbody tr th:only-of-type {\n",
              "        vertical-align: middle;\n",
              "    }\n",
              "\n",
              "    .dataframe tbody tr th {\n",
              "        vertical-align: top;\n",
              "    }\n",
              "\n",
              "    .dataframe thead th {\n",
              "        text-align: right;\n",
              "    }\n",
              "</style>\n",
              "<table border=\"1\" class=\"dataframe\">\n",
              "  <thead>\n",
              "    <tr style=\"text-align: right;\">\n",
              "      <th></th>\n",
              "      <th>commit</th>\n",
              "      <th>tree</th>\n",
              "      <th>parent</th>\n",
              "      <th>author</th>\n",
              "      <th>committer</th>\n",
              "      <th>subject</th>\n",
              "      <th>message</th>\n",
              "      <th>trailer</th>\n",
              "      <th>difference</th>\n",
              "      <th>difference_truncated</th>\n",
              "      <th>repo_name</th>\n",
              "      <th>encoding</th>\n",
              "    </tr>\n",
              "  </thead>\n",
              "  <tbody>\n",
              "    <tr>\n",
              "      <th>0</th>\n",
              "      <td>3eca86e75ec7a7d4b9a9c8091b11676f7bd2a39f</td>\n",
              "      <td>8e1b4380409a85a922ee0d3f622b5dd4d16bcfad</td>\n",
              "      <td>[104a0c02e8b1936c049e18a6d4e4ab040fb61213]</td>\n",
              "      <td>{'name': 'Mark Rutland', 'email': '1db9dd262be...</td>\n",
              "      <td>{'name': 'Catalin Marinas', 'email': '15ce75b2...</td>\n",
              "      <td>arm64: Remove fixmap include fragility</td>\n",
              "      <td>arm64: Remove fixmap include fragility\\n\\nThe ...</td>\n",
              "      <td>[{'key': 'Signed-off-by', 'value': 'Mark Rutla...</td>\n",
              "      <td>[{'old_mode': 33188, 'new_mode': 33188, 'old_p...</td>\n",
              "      <td>None</td>\n",
              "      <td>torvalds/linux</td>\n",
              "      <td>None</td>\n",
              "    </tr>\n",
              "    <tr>\n",
              "      <th>1</th>\n",
              "      <td>7158627686f02319c50c8d9d78f75d4c8d126ff2</td>\n",
              "      <td>3b4d781bd966f07cad1b67b137f0ff8b89430e9a</td>\n",
              "      <td>[66aa8d6a145b6a66566b4fce219cc56c3d0e01c3]</td>\n",
              "      <td>{'name': 'Will Deacon', 'email': 'b913f13ef92a...</td>\n",
              "      <td>{'name': 'Catalin Marinas', 'email': '15ce75b2...</td>\n",
              "      <td>arm64: percpu: implement optimised pcpu access...</td>\n",
              "      <td>arm64: percpu: implement optimised pcpu access...</td>\n",
              "      <td>[{'key': 'Signed-off-by', 'value': 'Will Deaco...</td>\n",
              "      <td>[{'old_mode': 33188, 'new_mode': 33188, 'old_p...</td>\n",
              "      <td>None</td>\n",
              "      <td>torvalds/linux</td>\n",
              "      <td>None</td>\n",
              "    </tr>\n",
              "    <tr>\n",
              "      <th>2</th>\n",
              "      <td>9732cafd9dc0206479be919baf0067239f0a63ca</td>\n",
              "      <td>c8878035ac9cb6dce592957f12dc1723a583989d</td>\n",
              "      <td>[f3c003f72dfb2497056bcbb864885837a1968ed5]</td>\n",
              "      <td>{'name': 'Jiang Liu', 'email': 'c745fa7b96fe79...</td>\n",
              "      <td>{'name': 'Catalin Marinas', 'email': '15ce75b2...</td>\n",
              "      <td>arm64, jump label: optimize jump label impleme...</td>\n",
              "      <td>arm64, jump label: optimize jump label impleme...</td>\n",
              "      <td>[{'key': 'Reviewed-by', 'value': 'Will Deacon ...</td>\n",
              "      <td>[{'old_mode': 33188, 'new_mode': 33188, 'old_p...</td>\n",
              "      <td>None</td>\n",
              "      <td>torvalds/linux</td>\n",
              "      <td>None</td>\n",
              "    </tr>\n",
              "    <tr>\n",
              "      <th>3</th>\n",
              "      <td>4702abd3f9728893ad5b0f4389e1902588510459</td>\n",
              "      <td>32926e7c55ef585d9b9c174a0e5f9ed13ed6bf7e</td>\n",
              "      <td>[ddf28352b80c86754a6424e3a61e8bdf9213b3c7]</td>\n",
              "      <td>{'name': 'Nicolas Pitre', 'email': '408789a210...</td>\n",
              "      <td>{'name': 'Arnd Bergmann', 'email': 'f2c659f019...</td>\n",
              "      <td>ARM: mach-nuc93x: delete</td>\n",
              "      <td>ARM: mach-nuc93x: delete\\n\\nThis architecture ...</td>\n",
              "      <td>[{'key': 'Signed-off-by', 'value': 'Nicolas Pi...</td>\n",
              "      <td>[{'old_mode': 33188, 'new_mode': 33188, 'old_p...</td>\n",
              "      <td>None</td>\n",
              "      <td>torvalds/linux</td>\n",
              "      <td>None</td>\n",
              "    </tr>\n",
              "    <tr>\n",
              "      <th>4</th>\n",
              "      <td>57bd4b91a6cfc5bad4c5d829ef85293ea63643ea</td>\n",
              "      <td>2ffc2066eb7638e185663e9d849663403229d4e5</td>\n",
              "      <td>[f74c95c20bad8e183e41283475f68a3e7b247af4]</td>\n",
              "      <td>{'name': 'Ben Dooks', 'email': '1177f64998f284...</td>\n",
              "      <td>{'name': 'Ben Dooks', 'email': '1177f64998f284...</td>\n",
              "      <td>[ARM] S3C24XX: Movev udc headers to arch/arm/p...</td>\n",
              "      <td>[ARM] S3C24XX: Movev udc headers to arch/arm/p...</td>\n",
              "      <td>[{'key': 'Signed-off-by', 'value': 'Ben Dooks ...</td>\n",
              "      <td>[{'old_mode': 33188, 'new_mode': 33188, 'old_p...</td>\n",
              "      <td>None</td>\n",
              "      <td>torvalds/linux</td>\n",
              "      <td>None</td>\n",
              "    </tr>\n",
              "  </tbody>\n",
              "</table>\n",
              "</div>"
            ],
            "text/plain": [
              "                                     commit  ... encoding\n",
              "0  3eca86e75ec7a7d4b9a9c8091b11676f7bd2a39f  ...     None\n",
              "1  7158627686f02319c50c8d9d78f75d4c8d126ff2  ...     None\n",
              "2  9732cafd9dc0206479be919baf0067239f0a63ca  ...     None\n",
              "3  4702abd3f9728893ad5b0f4389e1902588510459  ...     None\n",
              "4  57bd4b91a6cfc5bad4c5d829ef85293ea63643ea  ...     None\n",
              "\n",
              "[5 rows x 12 columns]"
            ]
          },
          "metadata": {},
          "execution_count": 12
        }
      ]
    },
    {
      "cell_type": "markdown",
      "metadata": {
        "id": "PTUilY_vVazr"
      },
      "source": [
        "### 1) Who has most commits in 2016 ?\n",
        "We write a query returned a table having 2 columns:\n",
        "- `committer_name` - contains the name of each individual with a commit (from 2016) in the table\n",
        "- `num_commits` - shows the number of commits the individual has in the table (from 2016)"
      ]
    },
    {
      "cell_type": "code",
      "metadata": {
        "colab": {
          "base_uri": "https://localhost:8080/",
          "height": 417
        },
        "id": "BsKYtmUCVzUP",
        "outputId": "25ed6ac7-8b36-434d-8c0c-ebe0667ff203"
      },
      "source": [
        "query1 = \"\"\"\n",
        "         SELECT committer.name AS committer_name,\n",
        "         COUNT (1) AS num_commits\n",
        "         FROM `bigquery-public-data.github_repos.sample_commits`\n",
        "         WHERE committer.date >= '2016-01-01'\n",
        "         GROUP BY committer.name\n",
        "         ORDER BY num_commits DESC\"\"\"\n",
        "query_job1 = client.query(query1, project = 'bigquerysqlexercises')\n",
        "most_commits = query_job1.to_dataframe()\n",
        "most_commits"
      ],
      "execution_count": null,
      "outputs": [
        {
          "output_type": "execute_result",
          "data": {
            "text/html": [
              "<div>\n",
              "<style scoped>\n",
              "    .dataframe tbody tr th:only-of-type {\n",
              "        vertical-align: middle;\n",
              "    }\n",
              "\n",
              "    .dataframe tbody tr th {\n",
              "        vertical-align: top;\n",
              "    }\n",
              "\n",
              "    .dataframe thead th {\n",
              "        text-align: right;\n",
              "    }\n",
              "</style>\n",
              "<table border=\"1\" class=\"dataframe\">\n",
              "  <thead>\n",
              "    <tr style=\"text-align: right;\">\n",
              "      <th></th>\n",
              "      <th>committer_name</th>\n",
              "      <th>num_commits</th>\n",
              "    </tr>\n",
              "  </thead>\n",
              "  <tbody>\n",
              "    <tr>\n",
              "      <th>0</th>\n",
              "      <td>Greg Kroah-Hartman</td>\n",
              "      <td>3545</td>\n",
              "    </tr>\n",
              "    <tr>\n",
              "      <th>1</th>\n",
              "      <td>David S. Miller</td>\n",
              "      <td>3120</td>\n",
              "    </tr>\n",
              "    <tr>\n",
              "      <th>2</th>\n",
              "      <td>TensorFlower Gardener</td>\n",
              "      <td>2449</td>\n",
              "    </tr>\n",
              "    <tr>\n",
              "      <th>3</th>\n",
              "      <td>Linus Torvalds</td>\n",
              "      <td>2424</td>\n",
              "    </tr>\n",
              "    <tr>\n",
              "      <th>4</th>\n",
              "      <td>Benjamin Pasero</td>\n",
              "      <td>1127</td>\n",
              "    </tr>\n",
              "    <tr>\n",
              "      <th>...</th>\n",
              "      <td>...</td>\n",
              "      <td>...</td>\n",
              "    </tr>\n",
              "    <tr>\n",
              "      <th>748</th>\n",
              "      <td>Ivan</td>\n",
              "      <td>1</td>\n",
              "    </tr>\n",
              "    <tr>\n",
              "      <th>749</th>\n",
              "      <td>Danijar Hafner</td>\n",
              "      <td>1</td>\n",
              "    </tr>\n",
              "    <tr>\n",
              "      <th>750</th>\n",
              "      <td>Josh Perez</td>\n",
              "      <td>1</td>\n",
              "    </tr>\n",
              "    <tr>\n",
              "      <th>751</th>\n",
              "      <td>nakazye</td>\n",
              "      <td>1</td>\n",
              "    </tr>\n",
              "    <tr>\n",
              "      <th>752</th>\n",
              "      <td>Mathieu Savy</td>\n",
              "      <td>1</td>\n",
              "    </tr>\n",
              "  </tbody>\n",
              "</table>\n",
              "<p>753 rows × 2 columns</p>\n",
              "</div>"
            ],
            "text/plain": [
              "            committer_name  num_commits\n",
              "0       Greg Kroah-Hartman         3545\n",
              "1          David S. Miller         3120\n",
              "2    TensorFlower Gardener         2449\n",
              "3           Linus Torvalds         2424\n",
              "4          Benjamin Pasero         1127\n",
              "..                     ...          ...\n",
              "748                   Ivan            1\n",
              "749         Danijar Hafner            1\n",
              "750             Josh Perez            1\n",
              "751                nakazye            1\n",
              "752           Mathieu Savy            1\n",
              "\n",
              "[753 rows x 2 columns]"
            ]
          },
          "metadata": {},
          "execution_count": 16
        }
      ]
    },
    {
      "cell_type": "markdown",
      "metadata": {
        "id": "axOniChSYVSW"
      },
      "source": [
        "We will work with the `languages` table now"
      ]
    },
    {
      "cell_type": "code",
      "metadata": {
        "colab": {
          "base_uri": "https://localhost:8080/",
          "height": 203
        },
        "id": "GGc-qClKYro4",
        "outputId": "62913a79-5f20-43aa-d533-a001496e0f01"
      },
      "source": [
        "table_ref = dataset.table('languages')\n",
        "\n",
        "languages_table = client.get_table(table_ref)\n",
        "\n",
        "client.list_rows(languages_table, max_results= 5).to_dataframe()"
      ],
      "execution_count": 4,
      "outputs": [
        {
          "output_type": "execute_result",
          "data": {
            "text/html": [
              "<div>\n",
              "<style scoped>\n",
              "    .dataframe tbody tr th:only-of-type {\n",
              "        vertical-align: middle;\n",
              "    }\n",
              "\n",
              "    .dataframe tbody tr th {\n",
              "        vertical-align: top;\n",
              "    }\n",
              "\n",
              "    .dataframe thead th {\n",
              "        text-align: right;\n",
              "    }\n",
              "</style>\n",
              "<table border=\"1\" class=\"dataframe\">\n",
              "  <thead>\n",
              "    <tr style=\"text-align: right;\">\n",
              "      <th></th>\n",
              "      <th>repo_name</th>\n",
              "      <th>language</th>\n",
              "    </tr>\n",
              "  </thead>\n",
              "  <tbody>\n",
              "    <tr>\n",
              "      <th>0</th>\n",
              "      <td>dhess/echoev</td>\n",
              "      <td>[{'name': 'C', 'bytes': 82517}]</td>\n",
              "    </tr>\n",
              "    <tr>\n",
              "      <th>1</th>\n",
              "      <td>bbidulock/vncproto</td>\n",
              "      <td>[{'name': 'C', 'bytes': 7911}]</td>\n",
              "    </tr>\n",
              "    <tr>\n",
              "      <th>2</th>\n",
              "      <td>Khalian/Karmarkar</td>\n",
              "      <td>[{'name': 'C', 'bytes': 21738}]</td>\n",
              "    </tr>\n",
              "    <tr>\n",
              "      <th>3</th>\n",
              "      <td>imheresamir/fillpipe</td>\n",
              "      <td>[{'name': 'C', 'bytes': 5534}]</td>\n",
              "    </tr>\n",
              "    <tr>\n",
              "      <th>4</th>\n",
              "      <td>zhaili/netcat</td>\n",
              "      <td>[{'name': 'C', 'bytes': 105069}]</td>\n",
              "    </tr>\n",
              "  </tbody>\n",
              "</table>\n",
              "</div>"
            ],
            "text/plain": [
              "              repo_name                          language\n",
              "0          dhess/echoev   [{'name': 'C', 'bytes': 82517}]\n",
              "1    bbidulock/vncproto    [{'name': 'C', 'bytes': 7911}]\n",
              "2     Khalian/Karmarkar   [{'name': 'C', 'bytes': 21738}]\n",
              "3  imheresamir/fillpipe    [{'name': 'C', 'bytes': 5534}]\n",
              "4         zhaili/netcat  [{'name': 'C', 'bytes': 105069}]"
            ]
          },
          "metadata": {},
          "execution_count": 4
        }
      ]
    },
    {
      "cell_type": "code",
      "metadata": {
        "colab": {
          "base_uri": "https://localhost:8080/"
        },
        "id": "3qil_74RZk9X",
        "outputId": "18efec85-141d-49da-c6b3-f2eac67b1258"
      },
      "source": [
        "# schema\n",
        "languages_table.schema"
      ],
      "execution_count": 5,
      "outputs": [
        {
          "output_type": "execute_result",
          "data": {
            "text/plain": [
              "[SchemaField('repo_name', 'STRING', 'NULLABLE', None, ()),\n",
              " SchemaField('language', 'RECORD', 'REPEATED', None, (SchemaField('name', 'STRING', 'NULLABLE', None, ()), SchemaField('bytes', 'INTEGER', 'NULLABLE', None, ())))]"
            ]
          },
          "metadata": {},
          "execution_count": 5
        }
      ]
    },
    {
      "cell_type": "markdown",
      "metadata": {
        "id": "FlN9D3dOZGLo"
      },
      "source": [
        "### 2) What is the most popular programming language ?\n",
        "We will write the query that returned 2 columns :\n",
        "- `language_name` - the name of the programming language\n",
        "- `num_repos` - the number of repositories in the `languages` table that use the programming language"
      ]
    },
    {
      "cell_type": "code",
      "metadata": {
        "id": "8gO1nYExaoMY",
        "colab": {
          "base_uri": "https://localhost:8080/",
          "height": 665
        },
        "outputId": "cb2c060e-e0a4-468b-a1e2-4056576a3202"
      },
      "source": [
        "query2 = \"\"\"\n",
        "         SELECT l.name AS language_name, COUNt(1)  AS num_repos\n",
        "         FROM `bigquery-public-data.github_repos.languages`,\n",
        "         UNNEST(language) AS l\n",
        "         GROUP BY l.name\n",
        "         ORDER BY num_repos DESC\n",
        "         \"\"\"\n",
        "query_job2 = client.query(query2, project='bigquerysqlexercises')\n",
        "\n",
        "popular_language = query_job2.to_dataframe()\n",
        "popular_language.head(20)"
      ],
      "execution_count": 8,
      "outputs": [
        {
          "output_type": "execute_result",
          "data": {
            "text/html": [
              "<div>\n",
              "<style scoped>\n",
              "    .dataframe tbody tr th:only-of-type {\n",
              "        vertical-align: middle;\n",
              "    }\n",
              "\n",
              "    .dataframe tbody tr th {\n",
              "        vertical-align: top;\n",
              "    }\n",
              "\n",
              "    .dataframe thead th {\n",
              "        text-align: right;\n",
              "    }\n",
              "</style>\n",
              "<table border=\"1\" class=\"dataframe\">\n",
              "  <thead>\n",
              "    <tr style=\"text-align: right;\">\n",
              "      <th></th>\n",
              "      <th>language_name</th>\n",
              "      <th>num_repos</th>\n",
              "    </tr>\n",
              "  </thead>\n",
              "  <tbody>\n",
              "    <tr>\n",
              "      <th>0</th>\n",
              "      <td>JavaScript</td>\n",
              "      <td>1102846</td>\n",
              "    </tr>\n",
              "    <tr>\n",
              "      <th>1</th>\n",
              "      <td>CSS</td>\n",
              "      <td>816637</td>\n",
              "    </tr>\n",
              "    <tr>\n",
              "      <th>2</th>\n",
              "      <td>HTML</td>\n",
              "      <td>781560</td>\n",
              "    </tr>\n",
              "    <tr>\n",
              "      <th>3</th>\n",
              "      <td>Shell</td>\n",
              "      <td>639588</td>\n",
              "    </tr>\n",
              "    <tr>\n",
              "      <th>4</th>\n",
              "      <td>Python</td>\n",
              "      <td>550041</td>\n",
              "    </tr>\n",
              "    <tr>\n",
              "      <th>5</th>\n",
              "      <td>Ruby</td>\n",
              "      <td>375653</td>\n",
              "    </tr>\n",
              "    <tr>\n",
              "      <th>6</th>\n",
              "      <td>Java</td>\n",
              "      <td>369870</td>\n",
              "    </tr>\n",
              "    <tr>\n",
              "      <th>7</th>\n",
              "      <td>PHP</td>\n",
              "      <td>341134</td>\n",
              "    </tr>\n",
              "    <tr>\n",
              "      <th>8</th>\n",
              "      <td>C</td>\n",
              "      <td>293192</td>\n",
              "    </tr>\n",
              "    <tr>\n",
              "      <th>9</th>\n",
              "      <td>C++</td>\n",
              "      <td>279568</td>\n",
              "    </tr>\n",
              "    <tr>\n",
              "      <th>10</th>\n",
              "      <td>Makefile</td>\n",
              "      <td>250193</td>\n",
              "    </tr>\n",
              "    <tr>\n",
              "      <th>11</th>\n",
              "      <td>Objective-C</td>\n",
              "      <td>169264</td>\n",
              "    </tr>\n",
              "    <tr>\n",
              "      <th>12</th>\n",
              "      <td>C#</td>\n",
              "      <td>133201</td>\n",
              "    </tr>\n",
              "    <tr>\n",
              "      <th>13</th>\n",
              "      <td>Perl</td>\n",
              "      <td>102254</td>\n",
              "    </tr>\n",
              "    <tr>\n",
              "      <th>14</th>\n",
              "      <td>Batchfile</td>\n",
              "      <td>97739</td>\n",
              "    </tr>\n",
              "    <tr>\n",
              "      <th>15</th>\n",
              "      <td>Go</td>\n",
              "      <td>91135</td>\n",
              "    </tr>\n",
              "    <tr>\n",
              "      <th>16</th>\n",
              "      <td>ApacheConf</td>\n",
              "      <td>69255</td>\n",
              "    </tr>\n",
              "    <tr>\n",
              "      <th>17</th>\n",
              "      <td>CoffeeScript</td>\n",
              "      <td>69037</td>\n",
              "    </tr>\n",
              "    <tr>\n",
              "      <th>18</th>\n",
              "      <td>CMake</td>\n",
              "      <td>55943</td>\n",
              "    </tr>\n",
              "    <tr>\n",
              "      <th>19</th>\n",
              "      <td>Assembly</td>\n",
              "      <td>48094</td>\n",
              "    </tr>\n",
              "  </tbody>\n",
              "</table>\n",
              "</div>"
            ],
            "text/plain": [
              "   language_name  num_repos\n",
              "0     JavaScript    1102846\n",
              "1            CSS     816637\n",
              "2           HTML     781560\n",
              "3          Shell     639588\n",
              "4         Python     550041\n",
              "5           Ruby     375653\n",
              "6           Java     369870\n",
              "7            PHP     341134\n",
              "8              C     293192\n",
              "9            C++     279568\n",
              "10      Makefile     250193\n",
              "11   Objective-C     169264\n",
              "12            C#     133201\n",
              "13          Perl     102254\n",
              "14     Batchfile      97739\n",
              "15            Go      91135\n",
              "16    ApacheConf      69255\n",
              "17  CoffeeScript      69037\n",
              "18         CMake      55943\n",
              "19      Assembly      48094"
            ]
          },
          "metadata": {},
          "execution_count": 8
        }
      ]
    },
    {
      "cell_type": "markdown",
      "metadata": {
        "id": "2BbvM-ivXLtC"
      },
      "source": [
        "### 3) What languge is used in the repo with the most language ?\n",
        "We will pay attention to the `'polyrabbit/polyglot'` repo.\n",
        "We will write a query that returns:\n",
        "- `name` - the name of the programming language\n",
        "- `bytes` - the total number of bytes of that programming language\n"
      ]
    },
    {
      "cell_type": "code",
      "metadata": {
        "colab": {
          "base_uri": "https://localhost:8080/",
          "height": 417
        },
        "id": "QQpQJ0n6YCpl",
        "outputId": "68041ff3-e2f5-4193-c193-4ebc531c7748"
      },
      "source": [
        "query3 = \"\"\"\n",
        "         SELECT l.name AS name,\n",
        "         SUM (l.bytes) AS bytes\n",
        "         FROM `bigquery-public-data.github_repos.languages`,\n",
        "         UNNEST (language) AS l\n",
        "         WHERE repo_name = 'polyrabbit/polyglot'\n",
        "         GROUP BY l.name\n",
        "         ORDER BY bytes DESC\n",
        "         \"\"\"\n",
        "query_job3 = client.query(query3, project = 'bigquerysqlexercises')\n",
        "\n",
        "used_language = query_job3.to_dataframe()\n",
        "used_language"
      ],
      "execution_count": 29,
      "outputs": [
        {
          "output_type": "execute_result",
          "data": {
            "text/html": [
              "<div>\n",
              "<style scoped>\n",
              "    .dataframe tbody tr th:only-of-type {\n",
              "        vertical-align: middle;\n",
              "    }\n",
              "\n",
              "    .dataframe tbody tr th {\n",
              "        vertical-align: top;\n",
              "    }\n",
              "\n",
              "    .dataframe thead th {\n",
              "        text-align: right;\n",
              "    }\n",
              "</style>\n",
              "<table border=\"1\" class=\"dataframe\">\n",
              "  <thead>\n",
              "    <tr style=\"text-align: right;\">\n",
              "      <th></th>\n",
              "      <th>name</th>\n",
              "      <th>bytes</th>\n",
              "    </tr>\n",
              "  </thead>\n",
              "  <tbody>\n",
              "    <tr>\n",
              "      <th>0</th>\n",
              "      <td>Lasso</td>\n",
              "      <td>834726</td>\n",
              "    </tr>\n",
              "    <tr>\n",
              "      <th>1</th>\n",
              "      <td>C</td>\n",
              "      <td>819142</td>\n",
              "    </tr>\n",
              "    <tr>\n",
              "      <th>2</th>\n",
              "      <td>Mercury</td>\n",
              "      <td>709952</td>\n",
              "    </tr>\n",
              "    <tr>\n",
              "      <th>3</th>\n",
              "      <td>Objective-C</td>\n",
              "      <td>495392</td>\n",
              "    </tr>\n",
              "    <tr>\n",
              "      <th>4</th>\n",
              "      <td>Game Maker Language</td>\n",
              "      <td>298131</td>\n",
              "    </tr>\n",
              "    <tr>\n",
              "      <th>...</th>\n",
              "      <td>...</td>\n",
              "      <td>...</td>\n",
              "    </tr>\n",
              "    <tr>\n",
              "      <th>211</th>\n",
              "      <td>XC</td>\n",
              "      <td>82</td>\n",
              "    </tr>\n",
              "    <tr>\n",
              "      <th>212</th>\n",
              "      <td>Arduino</td>\n",
              "      <td>81</td>\n",
              "    </tr>\n",
              "    <tr>\n",
              "      <th>213</th>\n",
              "      <td>Nimrod</td>\n",
              "      <td>43</td>\n",
              "    </tr>\n",
              "    <tr>\n",
              "      <th>214</th>\n",
              "      <td>AutoHotkey</td>\n",
              "      <td>23</td>\n",
              "    </tr>\n",
              "    <tr>\n",
              "      <th>215</th>\n",
              "      <td>Tea</td>\n",
              "      <td>20</td>\n",
              "    </tr>\n",
              "  </tbody>\n",
              "</table>\n",
              "<p>216 rows × 2 columns</p>\n",
              "</div>"
            ],
            "text/plain": [
              "                    name   bytes\n",
              "0                  Lasso  834726\n",
              "1                      C  819142\n",
              "2                Mercury  709952\n",
              "3            Objective-C  495392\n",
              "4    Game Maker Language  298131\n",
              "..                   ...     ...\n",
              "211                   XC      82\n",
              "212              Arduino      81\n",
              "213               Nimrod      43\n",
              "214           AutoHotkey      23\n",
              "215                  Tea      20\n",
              "\n",
              "[216 rows x 2 columns]"
            ]
          },
          "metadata": {},
          "execution_count": 29
        }
      ]
    },
    {
      "cell_type": "markdown",
      "metadata": {
        "id": "ajQhVTapc04n"
      },
      "source": [
        "### Distinguish the difference between `HAVING` and `WHERE`\n",
        "\n",
        "HAVING | WHERE\n",
        "-------|------\n",
        "Filter rows from groups $\\rightarrow$ We must use it with | Filter rows from the\n",
        " the `Group by` statement                                 | table $\\rightarrow$ we can use it when we like \n",
        "\n",
        "\n"
      ]
    }
  ]
}