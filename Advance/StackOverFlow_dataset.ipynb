{
  "nbformat": 4,
  "nbformat_minor": 0,
  "metadata": {
    "colab": {
      "name": "StackOverFlow dataset.ipynb",
      "provenance": [],
      "authorship_tag": "ABX9TyNvykyAMldRDIAmaY472SGl",
      "include_colab_link": true
    },
    "kernelspec": {
      "name": "python3",
      "display_name": "Python 3"
    },
    "language_info": {
      "name": "python"
    }
  },
  "cells": [
    {
      "cell_type": "markdown",
      "metadata": {
        "id": "view-in-github",
        "colab_type": "text"
      },
      "source": [
        "<a href=\"https://colab.research.google.com/github/nhatduong01/SQL_on_BigQuery/blob/main/Advance/StackOverFlow_dataset.ipynb\" target=\"_parent\"><img src=\"https://colab.research.google.com/assets/colab-badge.svg\" alt=\"Open In Colab\"/></a>"
      ]
    },
    {
      "cell_type": "code",
      "metadata": {
        "colab": {
          "base_uri": "https://localhost:8080/"
        },
        "id": "nz1he6O9SKXL",
        "outputId": "b9585093-d62c-4827-8cc3-dd30b90800dc"
      },
      "source": [
        "from google.colab import auth\n",
        "auth.authenticate_user()\n",
        "print('Authenticated')"
      ],
      "execution_count": 1,
      "outputs": [
        {
          "output_type": "stream",
          "text": [
            "Authenticated\n"
          ],
          "name": "stdout"
        }
      ]
    },
    {
      "cell_type": "code",
      "metadata": {
        "id": "7_jcbojRkQ3s"
      },
      "source": [
        "# Set up the Project Environment\n",
        "import os\n",
        "os.environ[\"GCLOUD_PROJECT\"] = \"BigQuerySQLExercises\""
      ],
      "execution_count": 3,
      "outputs": []
    },
    {
      "cell_type": "code",
      "metadata": {
        "colab": {
          "base_uri": "https://localhost:8080/"
        },
        "id": "BcYGJQ6Wkl4t",
        "outputId": "dc46de15-24e2-46a8-d268-002db548f2c1"
      },
      "source": [
        "from google.cloud import bigquery\n",
        "import pandas as pd\n",
        "\n",
        "\n",
        "client = bigquery.Client()\n",
        "\n",
        "data_ref = client.dataset(dataset_id= 'stackoverflow',\n",
        "                          project = \"bigquery-public-data\")\n",
        "dataset = client.get_dataset(data_ref)\n",
        "tables = list(client.list_tables(dataset))\n",
        "# See all the table ids in the table_list\n",
        "for table in tables:\n",
        "  print(table.table_id)"
      ],
      "execution_count": 4,
      "outputs": [
        {
          "output_type": "stream",
          "text": [
            "badges\n",
            "comments\n",
            "post_history\n",
            "post_links\n",
            "posts_answers\n",
            "posts_moderator_nomination\n",
            "posts_orphaned_tag_wiki\n",
            "posts_privilege_wiki\n",
            "posts_questions\n",
            "posts_tag_wiki\n",
            "posts_tag_wiki_excerpt\n",
            "posts_wiki_placeholder\n",
            "stackoverflow_posts\n",
            "tags\n",
            "users\n",
            "votes\n"
          ],
          "name": "stdout"
        }
      ]
    },
    {
      "cell_type": "markdown",
      "metadata": {
        "id": "ONFIcA_GnHbC"
      },
      "source": [
        "### 1) Time it took to receive an answer\n",
        "We will write the query below, which focuses on questions asked in January 2018.  It returns a table with two columns:\n",
        "- `q_id` - the ID of the question\n",
        "- `time_to_answer` - how long it took (in seconds) for the question to receive an answer"
      ]
    },
    {
      "cell_type": "code",
      "metadata": {
        "colab": {
          "base_uri": "https://localhost:8080/",
          "height": 229
        },
        "id": "qEFGHgpehnqw",
        "outputId": "bd007b74-23ea-4081-89a4-6bc310d27e16"
      },
      "source": [
        "query1 = \"\"\"\n",
        "         SELECT q.id AS questions_id,\n",
        "         MIN (TIMESTAMP_DIFF(a.creation_date, q.creation_date, SECOND)) AS time_to_answer\n",
        "         FROM `bigquery-public-data.stackoverflow.posts_questions` AS q\n",
        "         LEFT JOIN `bigquery-public-data.stackoverflow.posts_answers` AS a\n",
        "         ON q.id = a.parent_id\n",
        "         WHERE q.creation_date >= '2018-01-01' AND q.creation_date < '2018-02-01'\n",
        "         GROUP BY questions_id\n",
        "         ORDER BY time_to_answer DESC\"\"\"\n",
        "first_result = client.query(query1, project = 'bigquerysqlexercises').to_dataframe()\n",
        "print(\"Percentage of answered questions: %s%%\" % \\\n",
        "      (sum(first_result[\"time_to_answer\"].notnull()) / len(first_result) * 100))\n",
        "print(\"Number of questions:\", len(first_result))\n",
        "first_result.head()"
      ],
      "execution_count": 10,
      "outputs": [
        {
          "output_type": "stream",
          "text": [
            "Percentage of answered questions: 83.08578974324166%\n",
            "Number of questions: 162059\n"
          ],
          "name": "stdout"
        },
        {
          "output_type": "execute_result",
          "data": {
            "text/html": [
              "<div>\n",
              "<style scoped>\n",
              "    .dataframe tbody tr th:only-of-type {\n",
              "        vertical-align: middle;\n",
              "    }\n",
              "\n",
              "    .dataframe tbody tr th {\n",
              "        vertical-align: top;\n",
              "    }\n",
              "\n",
              "    .dataframe thead th {\n",
              "        text-align: right;\n",
              "    }\n",
              "</style>\n",
              "<table border=\"1\" class=\"dataframe\">\n",
              "  <thead>\n",
              "    <tr style=\"text-align: right;\">\n",
              "      <th></th>\n",
              "      <th>questions_id</th>\n",
              "      <th>time_to_answer</th>\n",
              "    </tr>\n",
              "  </thead>\n",
              "  <tbody>\n",
              "    <tr>\n",
              "      <th>0</th>\n",
              "      <td>48209725</td>\n",
              "      <td>106537277.0</td>\n",
              "    </tr>\n",
              "    <tr>\n",
              "      <th>1</th>\n",
              "      <td>48207919</td>\n",
              "      <td>106399189.0</td>\n",
              "    </tr>\n",
              "    <tr>\n",
              "      <th>2</th>\n",
              "      <td>48173606</td>\n",
              "      <td>105876287.0</td>\n",
              "    </tr>\n",
              "    <tr>\n",
              "      <th>3</th>\n",
              "      <td>48350671</td>\n",
              "      <td>105875315.0</td>\n",
              "    </tr>\n",
              "    <tr>\n",
              "      <th>4</th>\n",
              "      <td>48275715</td>\n",
              "      <td>105768170.0</td>\n",
              "    </tr>\n",
              "  </tbody>\n",
              "</table>\n",
              "</div>"
            ],
            "text/plain": [
              "   questions_id  time_to_answer\n",
              "0      48209725     106537277.0\n",
              "1      48207919     106399189.0\n",
              "2      48173606     105876287.0\n",
              "3      48350671     105875315.0\n",
              "4      48275715     105768170.0"
            ]
          },
          "metadata": {
            "tags": []
          },
          "execution_count": 10
        }
      ]
    },
    {
      "cell_type": "markdown",
      "metadata": {
        "id": "UaJjDR7iuxyX"
      },
      "source": [
        "### 2) Inital question and Initial Question:\n",
        "We will write a query that returns:\n",
        "- `owner_user_id` - the user ID\n",
        "- `q_creation_date` - the first time the user asked a question \n",
        "- `a_creation_date` - the first time the user contributed an answer "
      ]
    },
    {
      "cell_type": "code",
      "metadata": {
        "colab": {
          "base_uri": "https://localhost:8080/",
          "height": 402
        },
        "id": "HNsXSRqguxJ3",
        "outputId": "7489da9e-6e54-4679-a823-fda1d0f1263e"
      },
      "source": [
        "query2 = \"\"\"SELECT q.owner_user_id AS owner_user_id,\n",
        "                   MIN(q.creation_date) AS q_creation_date,\n",
        "                   MIN(a.creation_date) AS a_creation_date\n",
        "                   FROM `bigquery-public-data.stackoverflow.posts_questions`AS q\n",
        "                   FULL JOIN `bigquery-public-data.stackoverflow.posts_answers` AS a\n",
        "                   ON q.id = a.parent_id\n",
        "                    WHERE q.creation_date >= '2019-01-01' AND q.creation_date < '2019-02-01' \n",
        "                    AND a.creation_date >= '2019-01-01' AND a.creation_date < '2019-02-01'\n",
        "                   GROUP BY owner_user_id\n",
        "                   \"\"\"\n",
        "query_job2 = client.query(query2, project = 'bigquerysqlexercises')\n",
        "inial_actions = query_job2.to_dataframe()\n",
        "inial_actions"
      ],
      "execution_count": 17,
      "outputs": [
        {
          "output_type": "execute_result",
          "data": {
            "text/html": [
              "<div>\n",
              "<style scoped>\n",
              "    .dataframe tbody tr th:only-of-type {\n",
              "        vertical-align: middle;\n",
              "    }\n",
              "\n",
              "    .dataframe tbody tr th {\n",
              "        vertical-align: top;\n",
              "    }\n",
              "\n",
              "    .dataframe thead th {\n",
              "        text-align: right;\n",
              "    }\n",
              "</style>\n",
              "<table border=\"1\" class=\"dataframe\">\n",
              "  <thead>\n",
              "    <tr style=\"text-align: right;\">\n",
              "      <th></th>\n",
              "      <th>owner_user_id</th>\n",
              "      <th>q_creation_date</th>\n",
              "      <th>a_creation_date</th>\n",
              "    </tr>\n",
              "  </thead>\n",
              "  <tbody>\n",
              "    <tr>\n",
              "      <th>0</th>\n",
              "      <td>9997832.0</td>\n",
              "      <td>2019-01-28 11:06:56.730000+00:00</td>\n",
              "      <td>2019-01-28 11:32:57.267000+00:00</td>\n",
              "    </tr>\n",
              "    <tr>\n",
              "      <th>1</th>\n",
              "      <td>9825326.0</td>\n",
              "      <td>2019-01-15 16:44:35.053000+00:00</td>\n",
              "      <td>2019-01-15 19:46:44.247000+00:00</td>\n",
              "    </tr>\n",
              "    <tr>\n",
              "      <th>2</th>\n",
              "      <td>5430776.0</td>\n",
              "      <td>2019-01-18 07:52:12.943000+00:00</td>\n",
              "      <td>2019-01-18 08:00:33.153000+00:00</td>\n",
              "    </tr>\n",
              "    <tr>\n",
              "      <th>3</th>\n",
              "      <td>83678.0</td>\n",
              "      <td>2019-01-28 18:28:57.800000+00:00</td>\n",
              "      <td>2019-01-28 18:38:02.247000+00:00</td>\n",
              "    </tr>\n",
              "    <tr>\n",
              "      <th>4</th>\n",
              "      <td>3545438.0</td>\n",
              "      <td>2019-01-10 09:36:11.570000+00:00</td>\n",
              "      <td>2019-01-10 09:43:53.880000+00:00</td>\n",
              "    </tr>\n",
              "    <tr>\n",
              "      <th>...</th>\n",
              "      <td>...</td>\n",
              "      <td>...</td>\n",
              "      <td>...</td>\n",
              "    </tr>\n",
              "    <tr>\n",
              "      <th>80672</th>\n",
              "      <td>6632820.0</td>\n",
              "      <td>2019-01-23 15:33:14.633000+00:00</td>\n",
              "      <td>2019-01-24 15:27:41.873000+00:00</td>\n",
              "    </tr>\n",
              "    <tr>\n",
              "      <th>80673</th>\n",
              "      <td>3769400.0</td>\n",
              "      <td>2019-01-21 16:25:16.237000+00:00</td>\n",
              "      <td>2019-01-21 17:11:59.320000+00:00</td>\n",
              "    </tr>\n",
              "    <tr>\n",
              "      <th>80674</th>\n",
              "      <td>10169709.0</td>\n",
              "      <td>2019-01-12 06:01:48.050000+00:00</td>\n",
              "      <td>2019-01-12 06:48:10.600000+00:00</td>\n",
              "    </tr>\n",
              "    <tr>\n",
              "      <th>80675</th>\n",
              "      <td>10404034.0</td>\n",
              "      <td>2019-01-12 00:19:07.810000+00:00</td>\n",
              "      <td>2019-01-12 00:35:37.770000+00:00</td>\n",
              "    </tr>\n",
              "    <tr>\n",
              "      <th>80676</th>\n",
              "      <td>3855075.0</td>\n",
              "      <td>2019-01-19 19:22:04.220000+00:00</td>\n",
              "      <td>2019-01-20 04:39:33.213000+00:00</td>\n",
              "    </tr>\n",
              "  </tbody>\n",
              "</table>\n",
              "<p>80677 rows × 3 columns</p>\n",
              "</div>"
            ],
            "text/plain": [
              "       owner_user_id  ...                  a_creation_date\n",
              "0          9997832.0  ... 2019-01-28 11:32:57.267000+00:00\n",
              "1          9825326.0  ... 2019-01-15 19:46:44.247000+00:00\n",
              "2          5430776.0  ... 2019-01-18 08:00:33.153000+00:00\n",
              "3            83678.0  ... 2019-01-28 18:38:02.247000+00:00\n",
              "4          3545438.0  ... 2019-01-10 09:43:53.880000+00:00\n",
              "...              ...  ...                              ...\n",
              "80672      6632820.0  ... 2019-01-24 15:27:41.873000+00:00\n",
              "80673      3769400.0  ... 2019-01-21 17:11:59.320000+00:00\n",
              "80674     10169709.0  ... 2019-01-12 06:48:10.600000+00:00\n",
              "80675     10404034.0  ... 2019-01-12 00:35:37.770000+00:00\n",
              "80676      3855075.0  ... 2019-01-20 04:39:33.213000+00:00\n",
              "\n",
              "[80677 rows x 3 columns]"
            ]
          },
          "metadata": {
            "tags": []
          },
          "execution_count": 17
        }
      ]
    },
    {
      "cell_type": "markdown",
      "metadata": {
        "id": "pi6bTfng3XD0"
      },
      "source": [
        "### 3) User in 2019:\n",
        "We will write a query that returns the following columns:\n",
        "- `id` - the IDs of all users who created Stack Overflow accounts in January 2019 (January 1, 2019, to January 31, 2019, inclusive)\n",
        "- `q_creation_date` - the first time the user posted a question on the site; if the user has never posted a question, the value should be null\n",
        "- `a_creation_date` - the first time the user posted a question on the site; if the user has never posted a question, the value should be null"
      ]
    },
    {
      "cell_type": "code",
      "metadata": {
        "colab": {
          "base_uri": "https://localhost:8080/",
          "height": 402
        },
        "id": "8e_f6rXO3hG4",
        "outputId": "16d11b3c-d421-44d8-89fd-cced56e68ccd"
      },
      "source": [
        "query3 = \"\"\"\n",
        "         SELECT u.id AS id,\n",
        "         MIN (q.creation_date) AS q_creation_date,\n",
        "         MIN (a.creation_date) AS a_creation_date\n",
        "         FROM `bigquery-public-data.stackoverflow.users` AS u\n",
        "         LEFT JOIN `bigquery-public-data.stackoverflow.posts_questions` AS q\n",
        "         ON u.id = q.owner_user_id\n",
        "         LEFT JOIN `bigquery-public-data.stackoverflow.posts_answers` AS a\n",
        "         on u.id = a.owner_user_id\n",
        "         WHERE u.creation_date >= '2019-1-1' AND u.creation_date < '2019-2-1'\n",
        "         GROUP BY id\"\"\"\n",
        "job_query3 = client.query(query3, project = 'bigquerysqlexercises')\n",
        "\n",
        "users_info = job_query3.to_dataframe()\n",
        "users_info"
      ],
      "execution_count": 23,
      "outputs": [
        {
          "output_type": "execute_result",
          "data": {
            "text/html": [
              "<div>\n",
              "<style scoped>\n",
              "    .dataframe tbody tr th:only-of-type {\n",
              "        vertical-align: middle;\n",
              "    }\n",
              "\n",
              "    .dataframe tbody tr th {\n",
              "        vertical-align: top;\n",
              "    }\n",
              "\n",
              "    .dataframe thead th {\n",
              "        text-align: right;\n",
              "    }\n",
              "</style>\n",
              "<table border=\"1\" class=\"dataframe\">\n",
              "  <thead>\n",
              "    <tr style=\"text-align: right;\">\n",
              "      <th></th>\n",
              "      <th>id</th>\n",
              "      <th>q_creation_date</th>\n",
              "      <th>a_creation_date</th>\n",
              "    </tr>\n",
              "  </thead>\n",
              "  <tbody>\n",
              "    <tr>\n",
              "      <th>0</th>\n",
              "      <td>10920207</td>\n",
              "      <td>2019-03-05 09:59:13.160000+00:00</td>\n",
              "      <td>2019-12-16 07:35:23.797000+00:00</td>\n",
              "    </tr>\n",
              "    <tr>\n",
              "      <th>1</th>\n",
              "      <td>10876165</td>\n",
              "      <td>2019-01-19 18:11:50.987000+00:00</td>\n",
              "      <td>2021-04-09 17:36:47.330000+00:00</td>\n",
              "    </tr>\n",
              "    <tr>\n",
              "      <th>2</th>\n",
              "      <td>10937221</td>\n",
              "      <td>2021-01-07 15:18:33.160000+00:00</td>\n",
              "      <td>2019-01-19 12:43:23.087000+00:00</td>\n",
              "    </tr>\n",
              "    <tr>\n",
              "      <th>3</th>\n",
              "      <td>10926125</td>\n",
              "      <td>NaT</td>\n",
              "      <td>2019-04-11 06:33:24.787000+00:00</td>\n",
              "    </tr>\n",
              "    <tr>\n",
              "      <th>4</th>\n",
              "      <td>10882584</td>\n",
              "      <td>2019-12-27 11:15:17.197000+00:00</td>\n",
              "      <td>2020-01-02 10:40:49.437000+00:00</td>\n",
              "    </tr>\n",
              "    <tr>\n",
              "      <th>...</th>\n",
              "      <td>...</td>\n",
              "      <td>...</td>\n",
              "      <td>...</td>\n",
              "    </tr>\n",
              "    <tr>\n",
              "      <th>142007</th>\n",
              "      <td>10917433</td>\n",
              "      <td>NaT</td>\n",
              "      <td>2019-01-15 15:31:40.433000+00:00</td>\n",
              "    </tr>\n",
              "    <tr>\n",
              "      <th>142008</th>\n",
              "      <td>10929056</td>\n",
              "      <td>2020-01-14 11:14:53.627000+00:00</td>\n",
              "      <td>2019-01-17 16:06:45.893000+00:00</td>\n",
              "    </tr>\n",
              "    <tr>\n",
              "      <th>142009</th>\n",
              "      <td>10902853</td>\n",
              "      <td>2020-01-17 00:22:03.880000+00:00</td>\n",
              "      <td>NaT</td>\n",
              "    </tr>\n",
              "    <tr>\n",
              "      <th>142010</th>\n",
              "      <td>10916502</td>\n",
              "      <td>NaT</td>\n",
              "      <td>2019-01-15 10:53:53.643000+00:00</td>\n",
              "    </tr>\n",
              "    <tr>\n",
              "      <th>142011</th>\n",
              "      <td>10912483</td>\n",
              "      <td>2019-01-14 15:14:34.673000+00:00</td>\n",
              "      <td>2019-01-15 12:42:56.167000+00:00</td>\n",
              "    </tr>\n",
              "  </tbody>\n",
              "</table>\n",
              "<p>142012 rows × 3 columns</p>\n",
              "</div>"
            ],
            "text/plain": [
              "              id  ...                  a_creation_date\n",
              "0       10920207  ... 2019-12-16 07:35:23.797000+00:00\n",
              "1       10876165  ... 2021-04-09 17:36:47.330000+00:00\n",
              "2       10937221  ... 2019-01-19 12:43:23.087000+00:00\n",
              "3       10926125  ... 2019-04-11 06:33:24.787000+00:00\n",
              "4       10882584  ... 2020-01-02 10:40:49.437000+00:00\n",
              "...          ...  ...                              ...\n",
              "142007  10917433  ... 2019-01-15 15:31:40.433000+00:00\n",
              "142008  10929056  ... 2019-01-17 16:06:45.893000+00:00\n",
              "142009  10902853  ...                              NaT\n",
              "142010  10916502  ... 2019-01-15 10:53:53.643000+00:00\n",
              "142011  10912483  ... 2019-01-15 12:42:56.167000+00:00\n",
              "\n",
              "[142012 rows x 3 columns]"
            ]
          },
          "metadata": {
            "tags": []
          },
          "execution_count": 23
        }
      ]
    },
    {
      "cell_type": "markdown",
      "metadata": {
        "id": "cW55YjbN7mxK"
      },
      "source": [
        "### 3) Distinct User posted on January 1, 2019:\n",
        "In the code cell below,we will write a query that returns a table with a single column:\n",
        "- `owner_user_id` - the IDs of all users who posted at least one question or answer on January 1, 2019.  Each user ID should appear at most once."
      ]
    },
    {
      "cell_type": "code",
      "metadata": {
        "colab": {
          "base_uri": "https://localhost:8080/",
          "height": 402
        },
        "id": "Mtq7sCFp70cL",
        "outputId": "0ce28799-090c-44e0-bcf3-f369c3b95f24"
      },
      "source": [
        "query4 = \"\"\"\n",
        "                  SELECT q.owner_user_id \n",
        "                  FROM `bigquery-public-data.stackoverflow.posts_questions` AS q\n",
        "                  WHERE EXTRACT(DATE FROM q.creation_date) = '2019-01-01'\n",
        "                  UNION ALL\n",
        "                  SELECT a.owner_user_id\n",
        "                  FROM `bigquery-public-data.stackoverflow.posts_answers` AS a\n",
        "                  WHERE EXTRACT(DATE FROM a.creation_date) = '2019-01-01'\n",
        "         \"\"\"\n",
        "query_job4 = client.query(query4, project = 'bigquerysqlexercises')\n",
        "distinct_users = query_job4.to_dataframe()\n",
        "distinct_users"
      ],
      "execution_count": 34,
      "outputs": [
        {
          "output_type": "execute_result",
          "data": {
            "text/html": [
              "<div>\n",
              "<style scoped>\n",
              "    .dataframe tbody tr th:only-of-type {\n",
              "        vertical-align: middle;\n",
              "    }\n",
              "\n",
              "    .dataframe tbody tr th {\n",
              "        vertical-align: top;\n",
              "    }\n",
              "\n",
              "    .dataframe thead th {\n",
              "        text-align: right;\n",
              "    }\n",
              "</style>\n",
              "<table border=\"1\" class=\"dataframe\">\n",
              "  <thead>\n",
              "    <tr style=\"text-align: right;\">\n",
              "      <th></th>\n",
              "      <th>owner_user_id</th>\n",
              "    </tr>\n",
              "  </thead>\n",
              "  <tbody>\n",
              "    <tr>\n",
              "      <th>0</th>\n",
              "      <td>1621517.0</td>\n",
              "    </tr>\n",
              "    <tr>\n",
              "      <th>1</th>\n",
              "      <td>7587035.0</td>\n",
              "    </tr>\n",
              "    <tr>\n",
              "      <th>2</th>\n",
              "      <td>10849201.0</td>\n",
              "    </tr>\n",
              "    <tr>\n",
              "      <th>3</th>\n",
              "      <td>1711809.0</td>\n",
              "    </tr>\n",
              "    <tr>\n",
              "      <th>4</th>\n",
              "      <td>8773684.0</td>\n",
              "    </tr>\n",
              "    <tr>\n",
              "      <th>...</th>\n",
              "      <td>...</td>\n",
              "    </tr>\n",
              "    <tr>\n",
              "      <th>5683</th>\n",
              "      <td>3512189.0</td>\n",
              "    </tr>\n",
              "    <tr>\n",
              "      <th>5684</th>\n",
              "      <td>8949476.0</td>\n",
              "    </tr>\n",
              "    <tr>\n",
              "      <th>5685</th>\n",
              "      <td>8367626.0</td>\n",
              "    </tr>\n",
              "    <tr>\n",
              "      <th>5686</th>\n",
              "      <td>1491895.0</td>\n",
              "    </tr>\n",
              "    <tr>\n",
              "      <th>5687</th>\n",
              "      <td>2064761.0</td>\n",
              "    </tr>\n",
              "  </tbody>\n",
              "</table>\n",
              "<p>5688 rows × 1 columns</p>\n",
              "</div>"
            ],
            "text/plain": [
              "      owner_user_id\n",
              "0         1621517.0\n",
              "1         7587035.0\n",
              "2        10849201.0\n",
              "3         1711809.0\n",
              "4         8773684.0\n",
              "...             ...\n",
              "5683      3512189.0\n",
              "5684      8949476.0\n",
              "5685      8367626.0\n",
              "5686      1491895.0\n",
              "5687      2064761.0\n",
              "\n",
              "[5688 rows x 1 columns]"
            ]
          },
          "metadata": {
            "tags": []
          },
          "execution_count": 34
        }
      ]
    }
  ]
}