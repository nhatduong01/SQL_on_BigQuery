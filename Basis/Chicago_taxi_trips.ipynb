{
  "nbformat": 4,
  "nbformat_minor": 0,
  "metadata": {
    "colab": {
      "name": "Chicago taxi trips.ipynb",
      "provenance": [],
      "authorship_tag": "ABX9TyMO7zkXnZ3t8Ag3llu86jFT",
      "include_colab_link": true
    },
    "kernelspec": {
      "name": "python3",
      "display_name": "Python 3"
    },
    "language_info": {
      "name": "python"
    }
  },
  "cells": [
    {
      "cell_type": "markdown",
      "metadata": {
        "id": "view-in-github",
        "colab_type": "text"
      },
      "source": [
        "<a href=\"https://colab.research.google.com/github/nhatduong01/SQL_on_BigQuery/blob/main/Basis/Chicago_taxi_trips.ipynb\" target=\"_parent\"><img src=\"https://colab.research.google.com/assets/colab-badge.svg\" alt=\"Open In Colab\"/></a>"
      ]
    },
    {
      "cell_type": "markdown",
      "metadata": {
        "id": "5NgssiBiR95w"
      },
      "source": [
        "## We will work on the `chicago_taxi_trips` dataset."
      ]
    },
    {
      "cell_type": "code",
      "metadata": {
        "colab": {
          "base_uri": "https://localhost:8080/"
        },
        "id": "nz1he6O9SKXL",
        "outputId": "48fc8028-aa62-4959-9621-2bbc9a852898"
      },
      "source": [
        "from google.colab import auth\n",
        "auth.authenticate_user()\n",
        "print('Authenticated')"
      ],
      "execution_count": 1,
      "outputs": [
        {
          "output_type": "stream",
          "text": [
            "Authenticated\n"
          ],
          "name": "stdout"
        }
      ]
    },
    {
      "cell_type": "code",
      "metadata": {
        "id": "VnOrj2G6SSAu"
      },
      "source": [
        "# Set up the Project Environment\n",
        "import os\n",
        "os.environ[\"GCLOUD_PROJECT\"] = \"BigQuerySQLExercises\""
      ],
      "execution_count": 2,
      "outputs": []
    },
    {
      "cell_type": "code",
      "metadata": {
        "colab": {
          "base_uri": "https://localhost:8080/"
        },
        "id": "x5X61_12SV5p",
        "outputId": "c8ce3c51-0f63-47d9-a77f-f3929c13475f"
      },
      "source": [
        "from google.cloud import bigquery\n",
        "import pandas as pd\n",
        "\n",
        "\n",
        "client = bigquery.Client()\n",
        "\n",
        "data_ref = client.dataset(dataset_id= 'chicago_taxi_trips',\n",
        "                          project = \"bigquery-public-data\")\n",
        "dataset = client.get_dataset(data_ref)\n",
        "tables = list(client.list_tables(dataset))\n",
        "\n",
        "for table in tables:\n",
        "  print(table.table_id)"
      ],
      "execution_count": 3,
      "outputs": [
        {
          "output_type": "stream",
          "text": [
            "taxi_trips\n"
          ],
          "name": "stdout"
        }
      ]
    },
    {
      "cell_type": "code",
      "metadata": {
        "colab": {
          "base_uri": "https://localhost:8080/"
        },
        "id": "Z8NQDFMfSxOy",
        "outputId": "2a1463f2-de57-4a16-a44d-cc3e5e972cd9"
      },
      "source": [
        "table_ref = data_ref.table('taxi_trips')\n",
        "\n",
        "table = client.get_table(table_ref)\n",
        "# Print table schema\n",
        "table.schema"
      ],
      "execution_count": 4,
      "outputs": [
        {
          "output_type": "execute_result",
          "data": {
            "text/plain": [
              "[SchemaField('unique_key', 'STRING', 'REQUIRED', 'Unique identifier for the trip.', ()),\n",
              " SchemaField('taxi_id', 'STRING', 'REQUIRED', 'A unique identifier for the taxi.', ()),\n",
              " SchemaField('trip_start_timestamp', 'TIMESTAMP', 'NULLABLE', 'When the trip started, rounded to the nearest 15 minutes.', ()),\n",
              " SchemaField('trip_end_timestamp', 'TIMESTAMP', 'NULLABLE', 'When the trip ended, rounded to the nearest 15 minutes.', ()),\n",
              " SchemaField('trip_seconds', 'INTEGER', 'NULLABLE', 'Time of the trip in seconds.', ()),\n",
              " SchemaField('trip_miles', 'FLOAT', 'NULLABLE', 'Distance of the trip in miles.', ()),\n",
              " SchemaField('pickup_census_tract', 'INTEGER', 'NULLABLE', 'The Census Tract where the trip began. For privacy, this Census Tract is not shown for some trips.', ()),\n",
              " SchemaField('dropoff_census_tract', 'INTEGER', 'NULLABLE', 'The Census Tract where the trip ended. For privacy, this Census Tract is not shown for some trips.', ()),\n",
              " SchemaField('pickup_community_area', 'INTEGER', 'NULLABLE', 'The Community Area where the trip began.', ()),\n",
              " SchemaField('dropoff_community_area', 'INTEGER', 'NULLABLE', 'The Community Area where the trip ended.', ()),\n",
              " SchemaField('fare', 'FLOAT', 'NULLABLE', 'The fare for the trip.', ()),\n",
              " SchemaField('tips', 'FLOAT', 'NULLABLE', 'The tip for the trip. Cash tips generally will not be recorded.', ()),\n",
              " SchemaField('tolls', 'FLOAT', 'NULLABLE', 'The tolls for the trip.', ()),\n",
              " SchemaField('extras', 'FLOAT', 'NULLABLE', 'Extra charges for the trip.', ()),\n",
              " SchemaField('trip_total', 'FLOAT', 'NULLABLE', 'Total cost of the trip, the total of the fare, tips, tolls, and extras.', ()),\n",
              " SchemaField('payment_type', 'STRING', 'NULLABLE', 'Type of payment for the trip.', ()),\n",
              " SchemaField('company', 'STRING', 'NULLABLE', 'The taxi company.', ()),\n",
              " SchemaField('pickup_latitude', 'FLOAT', 'NULLABLE', 'The latitude of the center of the pickup census tract or the community area if the census tract has been hidden for privacy.', ()),\n",
              " SchemaField('pickup_longitude', 'FLOAT', 'NULLABLE', 'The longitude of the center of the pickup census tract or the community area if the census tract has been hidden for privacy.', ()),\n",
              " SchemaField('pickup_location', 'STRING', 'NULLABLE', 'The location of the center of the pickup census tract or the community area if the census tract has been hidden for privacy.', ()),\n",
              " SchemaField('dropoff_latitude', 'FLOAT', 'NULLABLE', 'The latitude of the center of the dropoff census tract or the community area if the census tract has been hidden for privacy.', ()),\n",
              " SchemaField('dropoff_longitude', 'FLOAT', 'NULLABLE', 'The longitude of the center of the dropoff census tract or the community area if the census tract has been hidden for privacy.', ()),\n",
              " SchemaField('dropoff_location', 'STRING', 'NULLABLE', 'The location of the center of the dropoff census tract or the community area if the census tract has been hidden for privacy.', ())]"
            ]
          },
          "metadata": {
            "tags": []
          },
          "execution_count": 4
        }
      ]
    },
    {
      "cell_type": "code",
      "metadata": {
        "colab": {
          "base_uri": "https://localhost:8080/",
          "height": 884
        },
        "id": "anQiJOHwS7-H",
        "outputId": "bc896f62-4d69-4aaa-bf81-f531e0093469"
      },
      "source": [
        "#List the first 10 rows\n",
        "client.list_rows(table, max_results= 10).to_dataframe()"
      ],
      "execution_count": null,
      "outputs": [
        {
          "output_type": "execute_result",
          "data": {
            "text/html": [
              "<div>\n",
              "<style scoped>\n",
              "    .dataframe tbody tr th:only-of-type {\n",
              "        vertical-align: middle;\n",
              "    }\n",
              "\n",
              "    .dataframe tbody tr th {\n",
              "        vertical-align: top;\n",
              "    }\n",
              "\n",
              "    .dataframe thead th {\n",
              "        text-align: right;\n",
              "    }\n",
              "</style>\n",
              "<table border=\"1\" class=\"dataframe\">\n",
              "  <thead>\n",
              "    <tr style=\"text-align: right;\">\n",
              "      <th></th>\n",
              "      <th>unique_key</th>\n",
              "      <th>taxi_id</th>\n",
              "      <th>trip_start_timestamp</th>\n",
              "      <th>trip_end_timestamp</th>\n",
              "      <th>trip_seconds</th>\n",
              "      <th>trip_miles</th>\n",
              "      <th>pickup_census_tract</th>\n",
              "      <th>dropoff_census_tract</th>\n",
              "      <th>pickup_community_area</th>\n",
              "      <th>dropoff_community_area</th>\n",
              "      <th>fare</th>\n",
              "      <th>tips</th>\n",
              "      <th>tolls</th>\n",
              "      <th>extras</th>\n",
              "      <th>trip_total</th>\n",
              "      <th>payment_type</th>\n",
              "      <th>company</th>\n",
              "      <th>pickup_latitude</th>\n",
              "      <th>pickup_longitude</th>\n",
              "      <th>pickup_location</th>\n",
              "      <th>dropoff_latitude</th>\n",
              "      <th>dropoff_longitude</th>\n",
              "      <th>dropoff_location</th>\n",
              "    </tr>\n",
              "  </thead>\n",
              "  <tbody>\n",
              "    <tr>\n",
              "      <th>0</th>\n",
              "      <td>d7142baead61226e1f0d5fbb42053148d4ea1234</td>\n",
              "      <td>83509dee15087de780f4ceef090a6d37029553d45b193c...</td>\n",
              "      <td>2013-12-28 01:00:00+00:00</td>\n",
              "      <td>2013-12-28 01:00:00+00:00</td>\n",
              "      <td>NaN</td>\n",
              "      <td>0.0</td>\n",
              "      <td>None</td>\n",
              "      <td>None</td>\n",
              "      <td>None</td>\n",
              "      <td>None</td>\n",
              "      <td>8.85</td>\n",
              "      <td>0.00</td>\n",
              "      <td>0.0</td>\n",
              "      <td>0.0</td>\n",
              "      <td>8.85</td>\n",
              "      <td>Credit Card</td>\n",
              "      <td>Chicago Elite Cab Corp. (Chicago Carriag</td>\n",
              "      <td>None</td>\n",
              "      <td>None</td>\n",
              "      <td>None</td>\n",
              "      <td>None</td>\n",
              "      <td>None</td>\n",
              "      <td>None</td>\n",
              "    </tr>\n",
              "    <tr>\n",
              "      <th>1</th>\n",
              "      <td>c4b5ecbc1199c68bc7c7336502d51c7af3a6f6dd</td>\n",
              "      <td>d6e1a9e103336c396201abe9ceb00795fcd41e14ccbf54...</td>\n",
              "      <td>2014-01-07 10:00:00+00:00</td>\n",
              "      <td>2014-01-07 09:45:00+00:00</td>\n",
              "      <td>NaN</td>\n",
              "      <td>0.0</td>\n",
              "      <td>None</td>\n",
              "      <td>None</td>\n",
              "      <td>None</td>\n",
              "      <td>None</td>\n",
              "      <td>6.45</td>\n",
              "      <td>1.29</td>\n",
              "      <td>0.0</td>\n",
              "      <td>0.0</td>\n",
              "      <td>7.74</td>\n",
              "      <td>Credit Card</td>\n",
              "      <td>Chicago Elite Cab Corp. (Chicago Carriag</td>\n",
              "      <td>None</td>\n",
              "      <td>None</td>\n",
              "      <td>None</td>\n",
              "      <td>None</td>\n",
              "      <td>None</td>\n",
              "      <td>None</td>\n",
              "    </tr>\n",
              "    <tr>\n",
              "      <th>2</th>\n",
              "      <td>5122fd569680033efac6d8d1990fa60014f112b7</td>\n",
              "      <td>23d5d31d196f02492dee2d0a37f4f52cce7904302213d4...</td>\n",
              "      <td>2014-07-01 20:15:00+00:00</td>\n",
              "      <td>2014-07-01 20:15:00+00:00</td>\n",
              "      <td>0.0</td>\n",
              "      <td>0.0</td>\n",
              "      <td>None</td>\n",
              "      <td>None</td>\n",
              "      <td>None</td>\n",
              "      <td>None</td>\n",
              "      <td>27.00</td>\n",
              "      <td>0.00</td>\n",
              "      <td>0.0</td>\n",
              "      <td>0.0</td>\n",
              "      <td>27.00</td>\n",
              "      <td>Credit Card</td>\n",
              "      <td>Park Ridge Taxi and Livery</td>\n",
              "      <td>None</td>\n",
              "      <td>None</td>\n",
              "      <td>None</td>\n",
              "      <td>None</td>\n",
              "      <td>None</td>\n",
              "      <td>None</td>\n",
              "    </tr>\n",
              "    <tr>\n",
              "      <th>3</th>\n",
              "      <td>556af535d64bc6460244a5bad92966fd5d85421f</td>\n",
              "      <td>442f4c9dd3dde549a82c2dc0ef65b85e54664aa28f5b55...</td>\n",
              "      <td>2014-01-07 13:30:00+00:00</td>\n",
              "      <td>2014-01-07 13:30:00+00:00</td>\n",
              "      <td>0.0</td>\n",
              "      <td>0.0</td>\n",
              "      <td>None</td>\n",
              "      <td>None</td>\n",
              "      <td>None</td>\n",
              "      <td>None</td>\n",
              "      <td>5.65</td>\n",
              "      <td>2.00</td>\n",
              "      <td>0.0</td>\n",
              "      <td>0.0</td>\n",
              "      <td>7.65</td>\n",
              "      <td>Credit Card</td>\n",
              "      <td>Taxi Affiliation Services</td>\n",
              "      <td>None</td>\n",
              "      <td>None</td>\n",
              "      <td>None</td>\n",
              "      <td>None</td>\n",
              "      <td>None</td>\n",
              "      <td>None</td>\n",
              "    </tr>\n",
              "    <tr>\n",
              "      <th>4</th>\n",
              "      <td>bb1f95719e77f9c887912b7b2ac4aa4b4b1a6bcb</td>\n",
              "      <td>01cfdf564af1a522661ba984b93574d481b54e27516833...</td>\n",
              "      <td>2014-01-25 21:15:00+00:00</td>\n",
              "      <td>2014-01-25 21:00:00+00:00</td>\n",
              "      <td>NaN</td>\n",
              "      <td>0.0</td>\n",
              "      <td>None</td>\n",
              "      <td>None</td>\n",
              "      <td>None</td>\n",
              "      <td>None</td>\n",
              "      <td>10.45</td>\n",
              "      <td>1.00</td>\n",
              "      <td>0.0</td>\n",
              "      <td>0.0</td>\n",
              "      <td>11.45</td>\n",
              "      <td>Credit Card</td>\n",
              "      <td>Chicago Elite Cab Corp. (Chicago Carriag</td>\n",
              "      <td>None</td>\n",
              "      <td>None</td>\n",
              "      <td>None</td>\n",
              "      <td>None</td>\n",
              "      <td>None</td>\n",
              "      <td>None</td>\n",
              "    </tr>\n",
              "    <tr>\n",
              "      <th>5</th>\n",
              "      <td>fb2e67a5698cd6cae6aa10e51b19c2136e138633</td>\n",
              "      <td>31af69ed89cd6d3c48818cb0ba3541db71149cc4fd3c54...</td>\n",
              "      <td>2014-01-09 23:30:00+00:00</td>\n",
              "      <td>2014-01-09 23:30:00+00:00</td>\n",
              "      <td>NaN</td>\n",
              "      <td>0.0</td>\n",
              "      <td>None</td>\n",
              "      <td>None</td>\n",
              "      <td>None</td>\n",
              "      <td>None</td>\n",
              "      <td>9.25</td>\n",
              "      <td>1.85</td>\n",
              "      <td>0.0</td>\n",
              "      <td>0.0</td>\n",
              "      <td>11.10</td>\n",
              "      <td>Credit Card</td>\n",
              "      <td>Chicago Elite Cab Corp. (Chicago Carriag</td>\n",
              "      <td>None</td>\n",
              "      <td>None</td>\n",
              "      <td>None</td>\n",
              "      <td>None</td>\n",
              "      <td>None</td>\n",
              "      <td>None</td>\n",
              "    </tr>\n",
              "    <tr>\n",
              "      <th>6</th>\n",
              "      <td>44baf127a93e28605be8735aaa4696a1f638ee94</td>\n",
              "      <td>bb90b2306d04496af0bd28b855103080054c6c38bbbe8e...</td>\n",
              "      <td>2013-07-02 15:30:00+00:00</td>\n",
              "      <td>2013-07-02 15:45:00+00:00</td>\n",
              "      <td>1020.0</td>\n",
              "      <td>0.1</td>\n",
              "      <td>None</td>\n",
              "      <td>None</td>\n",
              "      <td>None</td>\n",
              "      <td>None</td>\n",
              "      <td>10.25</td>\n",
              "      <td>0.00</td>\n",
              "      <td>0.0</td>\n",
              "      <td>0.0</td>\n",
              "      <td>10.25</td>\n",
              "      <td>Cash</td>\n",
              "      <td>Northwest Management LLC</td>\n",
              "      <td>None</td>\n",
              "      <td>None</td>\n",
              "      <td>None</td>\n",
              "      <td>None</td>\n",
              "      <td>None</td>\n",
              "      <td>None</td>\n",
              "    </tr>\n",
              "    <tr>\n",
              "      <th>7</th>\n",
              "      <td>76abdca4021065f2c1ba389451ef6b48c6957182</td>\n",
              "      <td>f55fc54d4cd33400f3960410558b28108a78da12682850...</td>\n",
              "      <td>2014-07-24 11:45:00+00:00</td>\n",
              "      <td>2014-07-24 11:45:00+00:00</td>\n",
              "      <td>0.0</td>\n",
              "      <td>0.0</td>\n",
              "      <td>None</td>\n",
              "      <td>None</td>\n",
              "      <td>None</td>\n",
              "      <td>None</td>\n",
              "      <td>7.65</td>\n",
              "      <td>2.00</td>\n",
              "      <td>0.0</td>\n",
              "      <td>0.0</td>\n",
              "      <td>9.65</td>\n",
              "      <td>Credit Card</td>\n",
              "      <td>T.A.S. - Payment Only</td>\n",
              "      <td>None</td>\n",
              "      <td>None</td>\n",
              "      <td>None</td>\n",
              "      <td>None</td>\n",
              "      <td>None</td>\n",
              "      <td>None</td>\n",
              "    </tr>\n",
              "    <tr>\n",
              "      <th>8</th>\n",
              "      <td>4bb2b0eba4755390ebff3a2179d321775ce1f6f3</td>\n",
              "      <td>4686819f6124b6c78dfa37266df9dae85c093ba2d24844...</td>\n",
              "      <td>2013-12-14 18:30:00+00:00</td>\n",
              "      <td>2013-12-14 18:30:00+00:00</td>\n",
              "      <td>600.0</td>\n",
              "      <td>0.0</td>\n",
              "      <td>None</td>\n",
              "      <td>None</td>\n",
              "      <td>None</td>\n",
              "      <td>None</td>\n",
              "      <td>10.65</td>\n",
              "      <td>0.00</td>\n",
              "      <td>0.0</td>\n",
              "      <td>0.0</td>\n",
              "      <td>10.65</td>\n",
              "      <td>Cash</td>\n",
              "      <td>Blue Ribbon Taxi Association Inc.</td>\n",
              "      <td>None</td>\n",
              "      <td>None</td>\n",
              "      <td>None</td>\n",
              "      <td>None</td>\n",
              "      <td>None</td>\n",
              "      <td>None</td>\n",
              "    </tr>\n",
              "    <tr>\n",
              "      <th>9</th>\n",
              "      <td>0e9aa05e6aa37c94d4bd61d64737da8696866d86</td>\n",
              "      <td>9ed3d450497cbb3cb1093ac395f7b7b2a9830718003318...</td>\n",
              "      <td>2014-01-08 20:00:00+00:00</td>\n",
              "      <td>2014-01-08 20:00:00+00:00</td>\n",
              "      <td>60.0</td>\n",
              "      <td>0.0</td>\n",
              "      <td>None</td>\n",
              "      <td>None</td>\n",
              "      <td>None</td>\n",
              "      <td>None</td>\n",
              "      <td>10.75</td>\n",
              "      <td>2.15</td>\n",
              "      <td>0.0</td>\n",
              "      <td>0.0</td>\n",
              "      <td>12.90</td>\n",
              "      <td>Credit Card</td>\n",
              "      <td>Chicago Elite Cab Corp. (Chicago Carriag</td>\n",
              "      <td>None</td>\n",
              "      <td>None</td>\n",
              "      <td>None</td>\n",
              "      <td>None</td>\n",
              "      <td>None</td>\n",
              "      <td>None</td>\n",
              "    </tr>\n",
              "  </tbody>\n",
              "</table>\n",
              "</div>"
            ],
            "text/plain": [
              "                                 unique_key  ... dropoff_location\n",
              "0  d7142baead61226e1f0d5fbb42053148d4ea1234  ...             None\n",
              "1  c4b5ecbc1199c68bc7c7336502d51c7af3a6f6dd  ...             None\n",
              "2  5122fd569680033efac6d8d1990fa60014f112b7  ...             None\n",
              "3  556af535d64bc6460244a5bad92966fd5d85421f  ...             None\n",
              "4  bb1f95719e77f9c887912b7b2ac4aa4b4b1a6bcb  ...             None\n",
              "5  fb2e67a5698cd6cae6aa10e51b19c2136e138633  ...             None\n",
              "6  44baf127a93e28605be8735aaa4696a1f638ee94  ...             None\n",
              "7  76abdca4021065f2c1ba389451ef6b48c6957182  ...             None\n",
              "8  4bb2b0eba4755390ebff3a2179d321775ce1f6f3  ...             None\n",
              "9  0e9aa05e6aa37c94d4bd61d64737da8696866d86  ...             None\n",
              "\n",
              "[10 rows x 23 columns]"
            ]
          },
          "metadata": {
            "tags": []
          },
          "execution_count": 5
        }
      ]
    },
    {
      "cell_type": "markdown",
      "metadata": {
        "id": "DG6Ew3g3Tu7n"
      },
      "source": [
        "### 1) Determine where the data is from:  \n",
        "We write a query that returns number of trips in each year.  \n",
        "The data returned should have two columns:\n",
        "- `year`\n",
        "- `num_trips`"
      ]
    },
    {
      "cell_type": "code",
      "metadata": {
        "colab": {
          "base_uri": "https://localhost:8080/",
          "height": 314
        },
        "id": "xSk59blYTqyd",
        "outputId": "5c85efd6-48f5-4872-ac79-5c31fef68f7f"
      },
      "source": [
        "query1 = \"\"\"\n",
        "         SELECT EXTRACT(YEAR FROM trip_start_timestamp) AS year, COUNT(1)\n",
        "         AS num_trips\n",
        "         FROM `bigquery-public-data.chicago_taxi_trips.taxi_trips`\n",
        "         GROUP BY year\n",
        "         ORDER BY num_trips\"\"\"\n",
        "query_job1 = client.query(query = query1, project = 'bigquerysqlexercises')\n",
        "\n",
        "year_trips = query_job1.to_dataframe()\n",
        "year_trips"
      ],
      "execution_count": null,
      "outputs": [
        {
          "output_type": "execute_result",
          "data": {
            "text/html": [
              "<div>\n",
              "<style scoped>\n",
              "    .dataframe tbody tr th:only-of-type {\n",
              "        vertical-align: middle;\n",
              "    }\n",
              "\n",
              "    .dataframe tbody tr th {\n",
              "        vertical-align: top;\n",
              "    }\n",
              "\n",
              "    .dataframe thead th {\n",
              "        text-align: right;\n",
              "    }\n",
              "</style>\n",
              "<table border=\"1\" class=\"dataframe\">\n",
              "  <thead>\n",
              "    <tr style=\"text-align: right;\">\n",
              "      <th></th>\n",
              "      <th>year</th>\n",
              "      <th>num_trips</th>\n",
              "    </tr>\n",
              "  </thead>\n",
              "  <tbody>\n",
              "    <tr>\n",
              "      <th>0</th>\n",
              "      <td>2021</td>\n",
              "      <td>1343776</td>\n",
              "    </tr>\n",
              "    <tr>\n",
              "      <th>1</th>\n",
              "      <td>2020</td>\n",
              "      <td>3889032</td>\n",
              "    </tr>\n",
              "    <tr>\n",
              "      <th>2</th>\n",
              "      <td>2019</td>\n",
              "      <td>16477365</td>\n",
              "    </tr>\n",
              "    <tr>\n",
              "      <th>3</th>\n",
              "      <td>2018</td>\n",
              "      <td>20732088</td>\n",
              "    </tr>\n",
              "    <tr>\n",
              "      <th>4</th>\n",
              "      <td>2017</td>\n",
              "      <td>24988003</td>\n",
              "    </tr>\n",
              "    <tr>\n",
              "      <th>5</th>\n",
              "      <td>2013</td>\n",
              "      <td>27217716</td>\n",
              "    </tr>\n",
              "    <tr>\n",
              "      <th>6</th>\n",
              "      <td>2016</td>\n",
              "      <td>31759339</td>\n",
              "    </tr>\n",
              "    <tr>\n",
              "      <th>7</th>\n",
              "      <td>2015</td>\n",
              "      <td>32385875</td>\n",
              "    </tr>\n",
              "    <tr>\n",
              "      <th>8</th>\n",
              "      <td>2014</td>\n",
              "      <td>37395436</td>\n",
              "    </tr>\n",
              "  </tbody>\n",
              "</table>\n",
              "</div>"
            ],
            "text/plain": [
              "   year  num_trips\n",
              "0  2021    1343776\n",
              "1  2020    3889032\n",
              "2  2019   16477365\n",
              "3  2018   20732088\n",
              "4  2017   24988003\n",
              "5  2013   27217716\n",
              "6  2016   31759339\n",
              "7  2015   32385875\n",
              "8  2014   37395436"
            ]
          },
          "metadata": {
            "tags": []
          },
          "execution_count": 6
        }
      ]
    },
    {
      "cell_type": "code",
      "metadata": {
        "colab": {
          "base_uri": "https://localhost:8080/",
          "height": 307
        },
        "id": "u8gzOP32Wlrq",
        "outputId": "1f9fa7f4-50ae-4b24-9706-a6998e7a69b1"
      },
      "source": [
        "year_trips.plot( x = 'year', y = 'num_trips')"
      ],
      "execution_count": null,
      "outputs": [
        {
          "output_type": "execute_result",
          "data": {
            "text/plain": [
              "<matplotlib.axes._subplots.AxesSubplot at 0x7f69b6d7fb90>"
            ]
          },
          "metadata": {
            "tags": []
          },
          "execution_count": 16
        },
        {
          "output_type": "display_data",
          "data": {
            "image/png": "[encoded data removed]",
            "text/plain": [
              "<Figure size 432x288 with 1 Axes>"
            ]
          },
          "metadata": {
            "tags": [],
            "needs_background": "light"
          }
        }
      ]
    },
    {
      "cell_type": "markdown",
      "metadata": {
        "id": "791Ul4PyZLur"
      },
      "source": [
        "### 2) Day tendency:\n",
        "We may want to see which day in the week people usually go by taxi."
      ]
    },
    {
      "cell_type": "code",
      "metadata": {
        "colab": {
          "base_uri": "https://localhost:8080/",
          "height": 402
        },
        "id": "7KDekrm5ZKpw",
        "outputId": "ac93c775-6853-4138-c951-3f2a6ecf87e0"
      },
      "source": [
        "query2 = \"\"\"\n",
        "         SELECT EXTRACT (YEAR FROM trip_start_timestamp) AS year,\n",
        "         EXTRACT (DAYOFWEEK FROM trip_start_timestamp) AS day,\n",
        "         COUNT(1) AS num_trips\n",
        "         FROM `bigquery-public-data.chicago_taxi_trips.taxi_trips`\n",
        "         GROUP BY year, day\"\"\"\n",
        "query_job2 = client.query(query2, project= 'bigquerysqlexercises')\n",
        "\n",
        "day_tendency = query_job2.to_dataframe()\n",
        "day_tendency"
      ],
      "execution_count": null,
      "outputs": [
        {
          "output_type": "execute_result",
          "data": {
            "text/html": [
              "<div>\n",
              "<style scoped>\n",
              "    .dataframe tbody tr th:only-of-type {\n",
              "        vertical-align: middle;\n",
              "    }\n",
              "\n",
              "    .dataframe tbody tr th {\n",
              "        vertical-align: top;\n",
              "    }\n",
              "\n",
              "    .dataframe thead th {\n",
              "        text-align: right;\n",
              "    }\n",
              "</style>\n",
              "<table border=\"1\" class=\"dataframe\">\n",
              "  <thead>\n",
              "    <tr style=\"text-align: right;\">\n",
              "      <th></th>\n",
              "      <th>year</th>\n",
              "      <th>day</th>\n",
              "      <th>num_trips</th>\n",
              "    </tr>\n",
              "  </thead>\n",
              "  <tbody>\n",
              "    <tr>\n",
              "      <th>0</th>\n",
              "      <td>2013</td>\n",
              "      <td>6</td>\n",
              "      <td>4565165</td>\n",
              "    </tr>\n",
              "    <tr>\n",
              "      <th>1</th>\n",
              "      <td>2021</td>\n",
              "      <td>7</td>\n",
              "      <td>171834</td>\n",
              "    </tr>\n",
              "    <tr>\n",
              "      <th>2</th>\n",
              "      <td>2016</td>\n",
              "      <td>7</td>\n",
              "      <td>4602931</td>\n",
              "    </tr>\n",
              "    <tr>\n",
              "      <th>3</th>\n",
              "      <td>2015</td>\n",
              "      <td>1</td>\n",
              "      <td>4141154</td>\n",
              "    </tr>\n",
              "    <tr>\n",
              "      <th>4</th>\n",
              "      <td>2017</td>\n",
              "      <td>4</td>\n",
              "      <td>3870833</td>\n",
              "    </tr>\n",
              "    <tr>\n",
              "      <th>...</th>\n",
              "      <td>...</td>\n",
              "      <td>...</td>\n",
              "      <td>...</td>\n",
              "    </tr>\n",
              "    <tr>\n",
              "      <th>58</th>\n",
              "      <td>2018</td>\n",
              "      <td>4</td>\n",
              "      <td>3212651</td>\n",
              "    </tr>\n",
              "    <tr>\n",
              "      <th>59</th>\n",
              "      <td>2017</td>\n",
              "      <td>2</td>\n",
              "      <td>3240334</td>\n",
              "    </tr>\n",
              "    <tr>\n",
              "      <th>60</th>\n",
              "      <td>2017</td>\n",
              "      <td>6</td>\n",
              "      <td>4131260</td>\n",
              "    </tr>\n",
              "    <tr>\n",
              "      <th>61</th>\n",
              "      <td>2019</td>\n",
              "      <td>4</td>\n",
              "      <td>2638105</td>\n",
              "    </tr>\n",
              "    <tr>\n",
              "      <th>62</th>\n",
              "      <td>2019</td>\n",
              "      <td>2</td>\n",
              "      <td>2301078</td>\n",
              "    </tr>\n",
              "  </tbody>\n",
              "</table>\n",
              "<p>63 rows × 3 columns</p>\n",
              "</div>"
            ],
            "text/plain": [
              "    year  day  num_trips\n",
              "0   2013    6    4565165\n",
              "1   2021    7     171834\n",
              "2   2016    7    4602931\n",
              "3   2015    1    4141154\n",
              "4   2017    4    3870833\n",
              "..   ...  ...        ...\n",
              "58  2018    4    3212651\n",
              "59  2017    2    3240334\n",
              "60  2017    6    4131260\n",
              "61  2019    4    2638105\n",
              "62  2019    2    2301078\n",
              "\n",
              "[63 rows x 3 columns]"
            ]
          },
          "metadata": {
            "tags": []
          },
          "execution_count": 7
        }
      ]
    },
    {
      "cell_type": "code",
      "metadata": {
        "id": "Ks4tbvBjLiM4"
      },
      "source": [
        "# Get the value of 2018 sorted by day of week\n",
        "data_2018 = day_tendency.loc[day_tendency.year == 2018].sort_values(by = 'day')"
      ],
      "execution_count": null,
      "outputs": []
    },
    {
      "cell_type": "code",
      "metadata": {
        "colab": {
          "base_uri": "https://localhost:8080/",
          "height": 307
        },
        "id": "2yIJ6ktcL_IH",
        "outputId": "495f0285-9ef7-422f-801c-96e7f3f01011"
      },
      "source": [
        "data_2018.plot(x = 'day', y = 'num_trips')"
      ],
      "execution_count": null,
      "outputs": [
        {
          "output_type": "execute_result",
          "data": {
            "text/plain": [
              "<matplotlib.axes._subplots.AxesSubplot at 0x7fd8e4e7d550>"
            ]
          },
          "metadata": {
            "tags": []
          },
          "execution_count": 25
        },
        {
          "output_type": "display_data",
          "data": {
            "image/png": "[encoded data removed]",
            "text/plain": [
              "<Figure size 432x288 with 1 Axes>"
            ]
          },
          "metadata": {
            "tags": [],
            "needs_background": "light"
          }
        }
      ]
    },
    {
      "cell_type": "markdown",
      "metadata": {
        "id": "85eRlyRAZCiA"
      },
      "source": [
        "$\\rightarrow$ From the observation of 2018, 2017, 2016. **Friday** is the day people use taxi the most."
      ]
    },
    {
      "cell_type": "markdown",
      "metadata": {
        "id": "OziXgztUNvPk"
      },
      "source": [
        "### 3) Speed tendency:\n",
        "We want write a query that shows, for each hour of the day in the dataset, the corresponding number of trips and average speed.\n",
        "\n",
        "The results should have three columns:\n",
        "- `hour_of_day` - sort by this column, which holds the result of extracting the hour from `trip_start_timestamp`.\n",
        "- `num_trips` - the count of the total number of trips in each hour of the day (e.g. how many trips were started between 6AM and 7AM, independent of which day it occurred on).\n",
        "- `avg_mph` - the average speed, measured in miles per hour, for trips that started in that hour of the day.  Average speed in miles per hour is calculated as `3600 * SUM(trip_miles) / SUM(trip_seconds)`. (The value 3600 is used to convert from seconds to hours.)\n",
        "\n",
        "Restrict the query to data meeting the following criteria:\n",
        "- a `trip_start_timestamp` between **2017-01-01** and **2017-07-01**\n",
        "- `trip_seconds` > 0 and `trip_miles` > 0\n"
      ]
    },
    {
      "cell_type": "code",
      "metadata": {
        "colab": {
          "base_uri": "https://localhost:8080/",
          "height": 758
        },
        "id": "sJhD2zNuNs4J",
        "outputId": "c00abdcc-c2cc-40d6-e8d3-743c1647caa0"
      },
      "source": [
        "query3 = \"\"\"\n",
        "        WITH raw_table AS\n",
        "        (\n",
        "        SELECT EXTRACT(HOUR from trip_start_timestamp) AS hour_of_day,\n",
        "        trip_seconds, trip_miles\n",
        "        FROM `bigquery-public-data.chicago_taxi_trips.taxi_trips`\n",
        "        WHERE trip_miles > 0 AND trip_seconds > 0 AND\n",
        "        trip_start_timestamp > '2017-01-01' AND \n",
        "        trip_start_timestamp < '2017-07-01'\n",
        "        )\n",
        "        SELECT hour_of_day, COUNT(1) AS num_trips, \n",
        "        3600*SUM(trip_miles)/SUM(trip_seconds) as avg_mph\n",
        "        FROM raw_table\n",
        "        GROUP BY hour_of_day\n",
        "        ORDER BY avg_mph DESC\n",
        "         \"\"\"\n",
        "query_job3 = client.query(query = query3, project = 'bigquerysqlexercises')\n",
        "\n",
        "raw_data = query_job3.to_dataframe()\n",
        "raw_data"
      ],
      "execution_count": 8,
      "outputs": [
        {
          "output_type": "execute_result",
          "data": {
            "text/html": [
              "<div>\n",
              "<style scoped>\n",
              "    .dataframe tbody tr th:only-of-type {\n",
              "        vertical-align: middle;\n",
              "    }\n",
              "\n",
              "    .dataframe tbody tr th {\n",
              "        vertical-align: top;\n",
              "    }\n",
              "\n",
              "    .dataframe thead th {\n",
              "        text-align: right;\n",
              "    }\n",
              "</style>\n",
              "<table border=\"1\" class=\"dataframe\">\n",
              "  <thead>\n",
              "    <tr style=\"text-align: right;\">\n",
              "      <th></th>\n",
              "      <th>hour_of_day</th>\n",
              "      <th>num_trips</th>\n",
              "      <th>avg_mph</th>\n",
              "    </tr>\n",
              "  </thead>\n",
              "  <tbody>\n",
              "    <tr>\n",
              "      <th>0</th>\n",
              "      <td>5</td>\n",
              "      <td>119312</td>\n",
              "      <td>30.769172</td>\n",
              "    </tr>\n",
              "    <tr>\n",
              "      <th>1</th>\n",
              "      <td>4</td>\n",
              "      <td>122183</td>\n",
              "      <td>26.736014</td>\n",
              "    </tr>\n",
              "    <tr>\n",
              "      <th>2</th>\n",
              "      <td>6</td>\n",
              "      <td>182738</td>\n",
              "      <td>24.588313</td>\n",
              "    </tr>\n",
              "    <tr>\n",
              "      <th>3</th>\n",
              "      <td>21</td>\n",
              "      <td>552726</td>\n",
              "      <td>20.433874</td>\n",
              "    </tr>\n",
              "    <tr>\n",
              "      <th>4</th>\n",
              "      <td>0</td>\n",
              "      <td>319339</td>\n",
              "      <td>20.230524</td>\n",
              "    </tr>\n",
              "    <tr>\n",
              "      <th>5</th>\n",
              "      <td>3</td>\n",
              "      <td>159668</td>\n",
              "      <td>20.158048</td>\n",
              "    </tr>\n",
              "    <tr>\n",
              "      <th>6</th>\n",
              "      <td>23</td>\n",
              "      <td>399587</td>\n",
              "      <td>19.877046</td>\n",
              "    </tr>\n",
              "    <tr>\n",
              "      <th>7</th>\n",
              "      <td>20</td>\n",
              "      <td>598614</td>\n",
              "      <td>19.536777</td>\n",
              "    </tr>\n",
              "    <tr>\n",
              "      <th>8</th>\n",
              "      <td>22</td>\n",
              "      <td>501095</td>\n",
              "      <td>19.531374</td>\n",
              "    </tr>\n",
              "    <tr>\n",
              "      <th>9</th>\n",
              "      <td>1</td>\n",
              "      <td>266529</td>\n",
              "      <td>18.937621</td>\n",
              "    </tr>\n",
              "    <tr>\n",
              "      <th>10</th>\n",
              "      <td>11</td>\n",
              "      <td>594603</td>\n",
              "      <td>18.928379</td>\n",
              "    </tr>\n",
              "    <tr>\n",
              "      <th>11</th>\n",
              "      <td>2</td>\n",
              "      <td>210147</td>\n",
              "      <td>18.777070</td>\n",
              "    </tr>\n",
              "    <tr>\n",
              "      <th>12</th>\n",
              "      <td>10</td>\n",
              "      <td>525120</td>\n",
              "      <td>18.539614</td>\n",
              "    </tr>\n",
              "    <tr>\n",
              "      <th>13</th>\n",
              "      <td>12</td>\n",
              "      <td>622324</td>\n",
              "      <td>17.838745</td>\n",
              "    </tr>\n",
              "    <tr>\n",
              "      <th>14</th>\n",
              "      <td>7</td>\n",
              "      <td>358406</td>\n",
              "      <td>17.735967</td>\n",
              "    </tr>\n",
              "    <tr>\n",
              "      <th>15</th>\n",
              "      <td>13</td>\n",
              "      <td>630181</td>\n",
              "      <td>17.671089</td>\n",
              "    </tr>\n",
              "    <tr>\n",
              "      <th>16</th>\n",
              "      <td>14</td>\n",
              "      <td>622465</td>\n",
              "      <td>16.974239</td>\n",
              "    </tr>\n",
              "    <tr>\n",
              "      <th>17</th>\n",
              "      <td>19</td>\n",
              "      <td>701064</td>\n",
              "      <td>16.642882</td>\n",
              "    </tr>\n",
              "    <tr>\n",
              "      <th>18</th>\n",
              "      <td>9</td>\n",
              "      <td>565548</td>\n",
              "      <td>16.543882</td>\n",
              "    </tr>\n",
              "    <tr>\n",
              "      <th>19</th>\n",
              "      <td>15</td>\n",
              "      <td>640430</td>\n",
              "      <td>15.688418</td>\n",
              "    </tr>\n",
              "    <tr>\n",
              "      <th>20</th>\n",
              "      <td>8</td>\n",
              "      <td>541775</td>\n",
              "      <td>15.079892</td>\n",
              "    </tr>\n",
              "    <tr>\n",
              "      <th>21</th>\n",
              "      <td>16</td>\n",
              "      <td>701435</td>\n",
              "      <td>14.283888</td>\n",
              "    </tr>\n",
              "    <tr>\n",
              "      <th>22</th>\n",
              "      <td>18</td>\n",
              "      <td>768251</td>\n",
              "      <td>13.646810</td>\n",
              "    </tr>\n",
              "    <tr>\n",
              "      <th>23</th>\n",
              "      <td>17</td>\n",
              "      <td>756627</td>\n",
              "      <td>12.462955</td>\n",
              "    </tr>\n",
              "  </tbody>\n",
              "</table>\n",
              "</div>"
            ],
            "text/plain": [
              "    hour_of_day  num_trips    avg_mph\n",
              "0             5     119312  30.769172\n",
              "1             4     122183  26.736014\n",
              "2             6     182738  24.588313\n",
              "3            21     552726  20.433874\n",
              "4             0     319339  20.230524\n",
              "5             3     159668  20.158048\n",
              "6            23     399587  19.877046\n",
              "7            20     598614  19.536777\n",
              "8            22     501095  19.531374\n",
              "9             1     266529  18.937621\n",
              "10           11     594603  18.928379\n",
              "11            2     210147  18.777070\n",
              "12           10     525120  18.539614\n",
              "13           12     622324  17.838745\n",
              "14            7     358406  17.735967\n",
              "15           13     630181  17.671089\n",
              "16           14     622465  16.974239\n",
              "17           19     701064  16.642882\n",
              "18            9     565548  16.543882\n",
              "19           15     640430  15.688418\n",
              "20            8     541775  15.079892\n",
              "21           16     701435  14.283888\n",
              "22           18     768251  13.646810\n",
              "23           17     756627  12.462955"
            ]
          },
          "metadata": {
            "tags": []
          },
          "execution_count": 8
        }
      ]
    },
    {
      "cell_type": "markdown",
      "metadata": {
        "id": "IlJdmfPKHmRA"
      },
      "source": [
        "_In Conclusion :_\n",
        "- The taxi driver drives at fastest speed at 5 a.m.\n",
        "- The taxi driver receives most calls at 6 p.m."
      ]
    },
    {
      "cell_type": "code",
      "metadata": {
        "id": "JombvfJFH6i0"
      },
      "source": [
        ""
      ],
      "execution_count": null,
      "outputs": []
    } 
  ]
}
