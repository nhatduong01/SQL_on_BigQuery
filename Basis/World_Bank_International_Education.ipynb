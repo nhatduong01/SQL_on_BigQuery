{
  "nbformat": 4,
  "nbformat_minor": 0,
  "metadata": {
    "colab": {
      "name": "World Bank International Education.ipynb",
      "provenance": [],
      "authorship_tag": "ABX9TyMUEVdCPLVT8/YkSBDl9RBL",
      "include_colab_link": true
    },
    "kernelspec": {
      "name": "python3",
      "display_name": "Python 3"
    },
    "language_info": {
      "name": "python"
    }
  },
  "cells": [
    {
      "cell_type": "markdown",
      "metadata": {
        "id": "view-in-github",
        "colab_type": "text"
      },
      "source": [
        "<a href=\"https://colab.research.google.com/github/nhatduong01/SQL_on_BigQuery/blob/main/Basis/World_Bank_International_Education.ipynb\" target=\"_parent\"><img src=\"https://colab.research.google.com/assets/colab-badge.svg\" alt=\"Open In Colab\"/></a>"
      ]
    },
    {
      "cell_type": "markdown",
      "metadata": {
        "id": "b0U_yUZ5PJrO"
      },
      "source": [
        "Working with `international_education` table on the `world_bank_intl_education` dataset"
      ]
    },
    {
      "cell_type": "code",
      "metadata": {
        "colab": {
          "base_uri": "https://localhost:8080/"
        },
        "id": "Kr1jJhQYO3LZ",
        "outputId": "4b3f92c2-79e3-4a46-fc08-3a049722a273"
      },
      "source": [
        "from google.colab import auth\n",
        "auth.authenticate_user()\n",
        "print('Authenticated')"
      ],
      "execution_count": 1,
      "outputs": [
        {
          "output_type": "stream",
          "text": [
            "Authenticated\n"
          ],
          "name": "stdout"
        }
      ]
    },
    {
      "cell_type": "code",
      "metadata": {
        "id": "0ePAngJjPpkJ"
      },
      "source": [
        "# Set up the Project Environment\n",
        "import os\n",
        "os.environ[\"GCLOUD_PROJECT\"] = \"BigQuerySQLExercises\""
      ],
      "execution_count": 3,
      "outputs": []
    },
    {
      "cell_type": "code",
      "metadata": {
        "colab": {
          "base_uri": "https://localhost:8080/"
        },
        "id": "FSANvC8pPz8c",
        "outputId": "140d91e3-8108-4743-d91f-c8003520cc22"
      },
      "source": [
        "from google.cloud import bigquery\n",
        "import pandas as pd\n",
        "\n",
        "client = bigquery.Client()\n",
        "\n",
        "data_ref = client.dataset(dataset_id= 'world_bank_intl_education',\n",
        "                          project = \"bigquery-public-data\")\n",
        "dataset = client.get_dataset(data_ref)\n",
        "tables = list(client.list_tables(dataset))\n",
        "\n",
        "for table in tables:\n",
        "  print(table.table_id)"
      ],
      "execution_count": 6,
      "outputs": [
        {
          "output_type": "stream",
          "text": [
            "country_series_definitions\n",
            "country_summary\n",
            "international_education\n",
            "series_summary\n"
          ],
          "name": "stdout"
        }
      ]
    },
    {
      "cell_type": "code",
      "metadata": {
        "colab": {
          "base_uri": "https://localhost:8080/"
        },
        "id": "qZKAzSmBQxMC",
        "outputId": "113de510-1c0e-4a16-f589-97a8d7d1de40"
      },
      "source": [
        "# Fetch the table\n",
        "table_ref = data_ref.table('international_education')\n",
        "\n",
        "table = client.get_table(table_ref)\n",
        "# Print table schema\n",
        "table.schema"
      ],
      "execution_count": 10,
      "outputs": [
        {
          "output_type": "stream",
          "text": [
            "[SchemaField('country_name', 'STRING', 'NULLABLE', '', ()), SchemaField('country_code', 'STRING', 'NULLABLE', '', ()), SchemaField('indicator_name', 'STRING', 'NULLABLE', '', ()), SchemaField('indicator_code', 'STRING', 'NULLABLE', '', ()), SchemaField('value', 'FLOAT', 'NULLABLE', '', ()), SchemaField('year', 'INTEGER', 'NULLABLE', '', ())]\n"
          ],
          "name": "stdout"
        }
      ]
    },
    {
      "cell_type": "code",
      "metadata": {
        "colab": {
          "base_uri": "https://localhost:8080/",
          "height": 343
        },
        "id": "l63HNWGdRicw",
        "outputId": "4e12b773-cdc5-4a35-9df1-5eb12db4bd14"
      },
      "source": [
        "#List the first 10 rows\n",
        "client.list_rows(table, max_results= 10).to_dataframe()"
      ],
      "execution_count": 11,
      "outputs": [
        {
          "output_type": "execute_result",
          "data": {
            "text/html": [
              "<div>\n",
              "<style scoped>\n",
              "    .dataframe tbody tr th:only-of-type {\n",
              "        vertical-align: middle;\n",
              "    }\n",
              "\n",
              "    .dataframe tbody tr th {\n",
              "        vertical-align: top;\n",
              "    }\n",
              "\n",
              "    .dataframe thead th {\n",
              "        text-align: right;\n",
              "    }\n",
              "</style>\n",
              "<table border=\"1\" class=\"dataframe\">\n",
              "  <thead>\n",
              "    <tr style=\"text-align: right;\">\n",
              "      <th></th>\n",
              "      <th>country_name</th>\n",
              "      <th>country_code</th>\n",
              "      <th>indicator_name</th>\n",
              "      <th>indicator_code</th>\n",
              "      <th>value</th>\n",
              "      <th>year</th>\n",
              "    </tr>\n",
              "  </thead>\n",
              "  <tbody>\n",
              "    <tr>\n",
              "      <th>0</th>\n",
              "      <td>Djibouti</td>\n",
              "      <td>DJI</td>\n",
              "      <td>Enrolment in secondary vocational, female (num...</td>\n",
              "      <td>SE.SEC.ENRL.VO.FE</td>\n",
              "      <td>2217.000000</td>\n",
              "      <td>2016</td>\n",
              "    </tr>\n",
              "    <tr>\n",
              "      <th>1</th>\n",
              "      <td>Djibouti</td>\n",
              "      <td>DJI</td>\n",
              "      <td>Gross graduation ratio from primary education,...</td>\n",
              "      <td>SE.PRM.CMPL.ZS</td>\n",
              "      <td>46.081841</td>\n",
              "      <td>2016</td>\n",
              "    </tr>\n",
              "    <tr>\n",
              "      <th>2</th>\n",
              "      <td>Dominica</td>\n",
              "      <td>DMA</td>\n",
              "      <td>Population of the official age for the last gr...</td>\n",
              "      <td>SP.PRM.GRAD.MA</td>\n",
              "      <td>470.000000</td>\n",
              "      <td>2016</td>\n",
              "    </tr>\n",
              "    <tr>\n",
              "      <th>3</th>\n",
              "      <td>Pakistan</td>\n",
              "      <td>PAK</td>\n",
              "      <td>Internet users (per 100 people)</td>\n",
              "      <td>IT.NET.USER.P2</td>\n",
              "      <td>15.514558</td>\n",
              "      <td>2016</td>\n",
              "    </tr>\n",
              "    <tr>\n",
              "      <th>4</th>\n",
              "      <td>Liberia</td>\n",
              "      <td>LBR</td>\n",
              "      <td>SABER: (Tertiary Education) Policy Goal 4: Fin...</td>\n",
              "      <td>SABER.TER.GOAL4</td>\n",
              "      <td>1.000000</td>\n",
              "      <td>2017</td>\n",
              "    </tr>\n",
              "    <tr>\n",
              "      <th>5</th>\n",
              "      <td>Libya</td>\n",
              "      <td>LBY</td>\n",
              "      <td>Population growth (annual %)</td>\n",
              "      <td>SP.POP.GROW</td>\n",
              "      <td>0.930675</td>\n",
              "      <td>2016</td>\n",
              "    </tr>\n",
              "    <tr>\n",
              "      <th>6</th>\n",
              "      <td>Suriname</td>\n",
              "      <td>SUR</td>\n",
              "      <td>Population of the official age for pre-primary...</td>\n",
              "      <td>SP.PRE.TOTL.FE.IN</td>\n",
              "      <td>9249.000000</td>\n",
              "      <td>2016</td>\n",
              "    </tr>\n",
              "    <tr>\n",
              "      <th>7</th>\n",
              "      <td>Suriname</td>\n",
              "      <td>SUR</td>\n",
              "      <td>SABER: (Education Management Information Syste...</td>\n",
              "      <td>SABER.EMIS.GOAL1.LVL2</td>\n",
              "      <td>2.000000</td>\n",
              "      <td>2016</td>\n",
              "    </tr>\n",
              "    <tr>\n",
              "      <th>8</th>\n",
              "      <td>Tajikistan</td>\n",
              "      <td>TJK</td>\n",
              "      <td>Enrolment in primary education, female (number)</td>\n",
              "      <td>SE.PRM.ENRL.FE</td>\n",
              "      <td>346823.000000</td>\n",
              "      <td>2016</td>\n",
              "    </tr>\n",
              "    <tr>\n",
              "      <th>9</th>\n",
              "      <td>Tajikistan</td>\n",
              "      <td>TJK</td>\n",
              "      <td>GDP per capita (constant 2005 US$)</td>\n",
              "      <td>NY.GDP.PCAP.KD</td>\n",
              "      <td>968.385603</td>\n",
              "      <td>2016</td>\n",
              "    </tr>\n",
              "  </tbody>\n",
              "</table>\n",
              "</div>"
            ],
            "text/plain": [
              "  country_name country_code  ...          value  year\n",
              "0     Djibouti          DJI  ...    2217.000000  2016\n",
              "1     Djibouti          DJI  ...      46.081841  2016\n",
              "2     Dominica          DMA  ...     470.000000  2016\n",
              "3     Pakistan          PAK  ...      15.514558  2016\n",
              "4      Liberia          LBR  ...       1.000000  2017\n",
              "5        Libya          LBY  ...       0.930675  2016\n",
              "6     Suriname          SUR  ...    9249.000000  2016\n",
              "7     Suriname          SUR  ...       2.000000  2016\n",
              "8   Tajikistan          TJK  ...  346823.000000  2016\n",
              "9   Tajikistan          TJK  ...     968.385603  2016\n",
              "\n",
              "[10 rows x 6 columns]"
            ]
          },
          "metadata": {
            "tags": []
          },
          "execution_count": 11
        }
      ]
    },
    {
      "cell_type": "markdown",
      "metadata": {
        "id": "VttuSLt3SFgC"
      },
      "source": [
        "### 1) Goverment Expenditures on Education\n",
        "Which countries spend the largest fraction of GDP on education?\n",
        "`SE.XPD.TOTL.GD.ZS` indicator in the table specifies the amount of GDP goverment spent on education. We need a query to return the `AVG()` of GDP spent of each country from 2010 -2017."
      ]
    },
    {
      "cell_type": "code",
      "metadata": {
        "colab": {
          "base_uri": "https://localhost:8080/"
        },
        "id": "cBONxdn1SC85",
        "outputId": "9730e36a-fcff-4a07-d261-ca2b72fcc829"
      },
      "source": [
        "query = \"\"\"\n",
        "        SELECT country_name,AVG(value) AS Amount\n",
        "        FROM `bigquery-public-data.world_bank_intl_education.international_education`\n",
        "        WHERE year <= 2017 AND YEAR >= 2010 AND indicator_code = 'SE.XPD.TOTL.GD.ZS'\n",
        "        GROUP BY country_name\n",
        "        ORDER BY Amount DESC\n",
        "        \"\"\"\n",
        "query_job = client.query(query= query, project= 'bigquerysqlexercises')\n",
        "\n",
        "GDP_expen = query_job.to_dataframe()\n",
        "print(GDP_expen)"
      ],
      "execution_count": 17,
      "outputs": [
        {
          "output_type": "stream",
          "text": [
            "                 country_name     Amount\n",
            "0                        Cuba  12.837270\n",
            "1       Micronesia, Fed. Sts.  12.467750\n",
            "2             Solomon Islands  10.001080\n",
            "3                     Moldova   8.372153\n",
            "4                     Namibia   8.349610\n",
            "..                        ...        ...\n",
            "152                  Cambodia   1.706404\n",
            "153        West Bank and Gaza   1.503760\n",
            "154               South Sudan   1.409726\n",
            "155                    Monaco   1.409606\n",
            "156  Central African Republic   1.214010\n",
            "\n",
            "[157 rows x 2 columns]\n"
          ],
          "name": "stdout"
        }
      ]
    },
    {
      "cell_type": "code",
      "metadata": {
        "colab": {
          "base_uri": "https://localhost:8080/",
          "height": 77
        },
        "id": "L9PzIoxaR7sZ",
        "outputId": "c6894db8-2ccb-4900-c5a5-8766c61f0721"
      },
      "source": [
        "# Lets see where VietNam is\n",
        "GDP_expen[GDP_expen.country_name == 'Vietnam']"
      ],
      "execution_count": 23,
      "outputs": [
        {
          "output_type": "execute_result",
          "data": {
            "text/html": [
              "<div>\n",
              "<style scoped>\n",
              "    .dataframe tbody tr th:only-of-type {\n",
              "        vertical-align: middle;\n",
              "    }\n",
              "\n",
              "    .dataframe tbody tr th {\n",
              "        vertical-align: top;\n",
              "    }\n",
              "\n",
              "    .dataframe thead th {\n",
              "        text-align: right;\n",
              "    }\n",
              "</style>\n",
              "<table border=\"1\" class=\"dataframe\">\n",
              "  <thead>\n",
              "    <tr style=\"text-align: right;\">\n",
              "      <th></th>\n",
              "      <th>country_name</th>\n",
              "      <th>Amount</th>\n",
              "    </tr>\n",
              "  </thead>\n",
              "  <tbody>\n",
              "    <tr>\n",
              "      <th>49</th>\n",
              "      <td>Vietnam</td>\n",
              "      <td>5.282447</td>\n",
              "    </tr>\n",
              "  </tbody>\n",
              "</table>\n",
              "</div>"
            ],
            "text/plain": [
              "   country_name    Amount\n",
              "49      Vietnam  5.282447"
            ]
          },
          "metadata": {
            "tags": []
          },
          "execution_count": 23
        }
      ]
    },
    {
      "cell_type": "code",
      "metadata": {
        "id": "D_xQRaB3YbJ-"
      },
      "source": [
        ""
      ],
      "execution_count": null,
      "outputs": []
    }
  ]
}